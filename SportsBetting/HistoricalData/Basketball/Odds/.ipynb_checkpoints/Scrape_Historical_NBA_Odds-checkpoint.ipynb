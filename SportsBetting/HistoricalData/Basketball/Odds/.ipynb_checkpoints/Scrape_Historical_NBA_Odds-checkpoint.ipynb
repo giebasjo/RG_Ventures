{
 "cells": [
  {
   "cell_type": "code",
   "execution_count": 1,
   "metadata": {},
   "outputs": [],
   "source": [
    "from scraping_nba_odds import nba_stats_info, scrape_nba_odds"
   ]
  },
  {
   "cell_type": "code",
   "execution_count": 2,
   "metadata": {},
   "outputs": [],
   "source": [
    "url = list(nba_stats_info.keys())[0]"
   ]
  },
  {
   "cell_type": "code",
   "execution_count": 3,
   "metadata": {},
   "outputs": [],
   "source": [
    "xstart = '/html/body/div[5]/div/div/section/div/div/div[2]/div[2]/table/tbody/tr['\n",
    "xmid = ']/td['\n",
    "xend = ']/div'\n",
    "week = [1,2,3,4,5,6]\n",
    "day = [1,2,3,4,5,6,7]\n",
    "xpaths = [xstart + str(wk) + xmid + str(d) + xend for wk in week[::-1] for d in day[::-1]]"
   ]
  },
  {
   "cell_type": "code",
   "execution_count": 4,
   "metadata": {},
   "outputs": [],
   "source": [
    "num_months = 12"
   ]
  },
  {
   "cell_type": "code",
   "execution_count": null,
   "metadata": {},
   "outputs": [],
   "source": [
    "dfout = scrape_nba_odds(url, xpaths, num_months)"
   ]
  },
  {
   "cell_type": "code",
   "execution_count": null,
   "metadata": {},
   "outputs": [],
   "source": [
    "dfout = dfout.drop(['Opener2','Opener3', 'Opener4','Opener5','Opener6','Opener7'],axis=1)"
   ]
  },
  {
   "cell_type": "code",
   "execution_count": null,
   "metadata": {},
   "outputs": [],
   "source": [
    "dfout.to_csv('jan_2018_jan_2019.csv', sep=',')"
   ]
  }
 ],
 "metadata": {
  "kernelspec": {
   "display_name": "Python 3",
   "language": "python",
   "name": "python3"
  },
  "language_info": {
   "codemirror_mode": {
    "name": "ipython",
    "version": 3
   },
   "file_extension": ".py",
   "mimetype": "text/x-python",
   "name": "python",
   "nbconvert_exporter": "python",
   "pygments_lexer": "ipython3",
   "version": "3.6.3"
  }
 },
 "nbformat": 4,
 "nbformat_minor": 2
}
