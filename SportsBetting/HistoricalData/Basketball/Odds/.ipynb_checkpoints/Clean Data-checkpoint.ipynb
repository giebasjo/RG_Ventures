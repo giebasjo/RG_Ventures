{
 "cells": [
  {
   "cell_type": "code",
   "execution_count": 308,
   "metadata": {},
   "outputs": [],
   "source": [
    "import pandas as pd\n",
    "import numpy as np\n",
    "import math\n",
    "import scipy.stats\n",
    "import matplotlib.pyplot as plt\n",
    "%matplotlib inline"
   ]
  },
  {
   "cell_type": "markdown",
   "metadata": {},
   "source": [
    "# Setup and Cleaning"
   ]
  },
  {
   "cell_type": "code",
   "execution_count": 221,
   "metadata": {},
   "outputs": [],
   "source": [
    "teamNames = ['Phoenix','Orlando','Washington','Detroit','Indiana','Atlanta',\n",
    "            'Toronto','Miami','Charlotte','Brooklyn','Cleveland','Memphis','Minnesota',\n",
    "            'Chicago','New Orleans','Dallas','Denver','San Antonio','Sacramento','L.A. Clippers',\n",
    "            'L.A. Lakers','Philadelphia','Boston', 'New York','Houston','Oklahoma City',\n",
    "            'Golden State','Utah','Portland','Milwaukee']"
   ]
  },
  {
   "cell_type": "code",
   "execution_count": 212,
   "metadata": {},
   "outputs": [
    {
     "name": "stderr",
     "output_type": "stream",
     "text": [
      "/home/richie10181/anaconda3/lib/python3.6/site-packages/IPython/core/interactiveshell.py:2728: DtypeWarning: Columns (5) have mixed types. Specify dtype option on import or set low_memory=False.\n",
      "  interactivity=interactivity, compiler=compiler, result=result)\n"
     ]
    }
   ],
   "source": [
    "# four months for each\n",
    "f1 = pd.read_csv('./Data Files/1_oct_2018_jan_2019.csv')\n",
    "f2 = pd.read_csv('./Data Files/2_feb_2018_may_2018.csv')\n",
    "f3 = pd.read_csv('./Data Files/3_oct_2017_dec_2017.csv')\n",
    "f4 = pd.read_csv('./Data Files/4_apr_2017_jun_2017.csv')\n",
    "f5 = pd.read_csv('./Data Files/5_nov_2016_feb_2017.csv')\n",
    "\n",
    "# 5 years for each\n",
    "f6 = pd.read_csv('./Data Files/apr_2014_may_2016.csv')\n",
    "f7 = pd.read_csv('./Data Files/apr_2009_mar_2014.csv')"
   ]
  },
  {
   "cell_type": "code",
   "execution_count": 213,
   "metadata": {},
   "outputs": [],
   "source": [
    "# append the separate dfs\n",
    "data = f1.append(f2)\n",
    "data = data.append(f3)\n",
    "data = data.append(f4)\n",
    "data = data.append(f5)\n",
    "data = data.append(f6)\n",
    "data = data.append(f7)"
   ]
  },
  {
   "cell_type": "code",
   "execution_count": 214,
   "metadata": {},
   "outputs": [],
   "source": [
    "# make sure each row has a date, teams, and points\n",
    "include = data['Date'].notnull() & data['Teams'].notnull() & data['Points'].notnull()"
   ]
  },
  {
   "cell_type": "code",
   "execution_count": 215,
   "metadata": {},
   "outputs": [],
   "source": [
    "# filter data to remove issues\n",
    "data = data[include]"
   ]
  },
  {
   "cell_type": "code",
   "execution_count": 217,
   "metadata": {},
   "outputs": [],
   "source": [
    "# fill NaN values with dash so they are not counted in odds calculation\n",
    "data = data.fillna(value='-')\n",
    "\n",
    "# remove unnamed column\n",
    "data = data.drop('Unnamed: 0', axis=1)"
   ]
  },
  {
   "cell_type": "code",
   "execution_count": 139,
   "metadata": {},
   "outputs": [],
   "source": [
    "# NOTE: scores stopped being scraped on March 12, 2014\n",
    "# not sure if this is because format of scraped html changed or we just need to rerun process\n",
    "data.to_csv('./Data Files/cleaned_data.csv', sep=',')"
   ]
  },
  {
   "cell_type": "code",
   "execution_count": 385,
   "metadata": {},
   "outputs": [],
   "source": [
    "avg_odds_l = []\n",
    "avg_prob_l = []\n",
    "\n",
    "for i in range(len(data)):\n",
    "    \n",
    "    # sort odds in each row\n",
    "    sl = np.sort([int(x) for x in data.iloc[i,7:34].values if x != '-'])[::-1]\n",
    "\n",
    "    # remove top 2 and bottom 2 values (avoid outliers and data issues)\n",
    "    sl_sub = sl[2:len(sl)-2]\n",
    "\n",
    "    # calculate average odds of 24 remaining bookies\n",
    "    # only append new odds/probs if 5 bookies give odds\n",
    "    if len(sl_sub) > 5:\n",
    "        avg_odds = np.mean(sl_sub)\n",
    "        \n",
    "        probs_tmp = []\n",
    "        for odds in sl_sub:\n",
    "            # calculate implied probabilities using odds\n",
    "            if int(odds) > 0:\n",
    "                probs_tmp.append(1/(1 + int(odds)/100))\n",
    "            else:\n",
    "                probs_tmp.append((-int(odds)/100)/(1-int(odds)/100))\n",
    "\n",
    "        avg_odds_l.append(avg_odds)\n",
    "        avg_prob_l.append(np.mean(probs_tmp))\n",
    "\n",
    "    else:\n",
    "        avg_odds_l.append(0)\n",
    "        avg_prob_l.append(0)"
   ]
  },
  {
   "cell_type": "code",
   "execution_count": 386,
   "metadata": {},
   "outputs": [],
   "source": [
    "# append computed odds and probabilities to dataframe\n",
    "data['Average_Odds'] = avg_odds_l\n",
    "data['Average_Probs'] = avg_prob_l"
   ]
  },
  {
   "cell_type": "code",
   "execution_count": 231,
   "metadata": {},
   "outputs": [],
   "source": [
    "# get rid of random team names in pts column\n",
    "include_pts1 = [False if data.iloc[i,3] in teamNames else True for i in range(len(data))]\n",
    "data = data[include_pts1]"
   ]
  },
  {
   "cell_type": "code",
   "execution_count": 234,
   "metadata": {},
   "outputs": [],
   "source": [
    "# get rid of ridiculous point totals\n",
    "# these totals occur in same game when team name is stored as other team's point total\n",
    "include_pts2 = [False if int(data.iloc[i,3]) > 250 else True for i in range(len(data))]\n",
    "data = data[include_pts2]"
   ]
  },
  {
   "cell_type": "code",
   "execution_count": 265,
   "metadata": {},
   "outputs": [],
   "source": [
    "# create column for outcome of game\n",
    "outcome_arr = [[0,1] if int(data.iloc[i,3]) > int(data.iloc[i-1,3]) else [1,0] for i in range(1,len(data),2)]"
   ]
  },
  {
   "cell_type": "code",
   "execution_count": 267,
   "metadata": {},
   "outputs": [],
   "source": [
    "# reshape array so shape is compatible with dataframe\n",
    "outcome_l = [x[0] for x in np.array(outcome_arr).reshape(len(outcome_arr)*2,1)]\n",
    "data['Outcome'] = outcome_l"
   ]
  },
  {
   "cell_type": "code",
   "execution_count": 278,
   "metadata": {},
   "outputs": [],
   "source": [
    "# create home/away column and append\n",
    "home_away_l = ['Home' if i % 2 == 0 else 'Away' for i in range(1,len(data)+1)]\n",
    "data['Home_Away'] = home_away_l"
   ]
  },
  {
   "cell_type": "markdown",
   "metadata": {},
   "source": [
    "# Analysis"
   ]
  },
  {
   "cell_type": "markdown",
   "metadata": {},
   "source": [
    "## Binning - All Games and Outcomes (no controlling for win/loss)"
   ]
  },
  {
   "cell_type": "code",
   "execution_count": null,
   "metadata": {},
   "outputs": [],
   "source": []
  },
  {
   "cell_type": "code",
   "execution_count": 408,
   "metadata": {},
   "outputs": [
    {
     "data": {
      "text/plain": [
       "array([ 33,   0,   1,   5,  17,  26,  31,  38,  51,  64,  55,  75,  64,\n",
       "        42,  57,  75,  89,  68,  71,  88,  87,  92,  97,  89, 104, 102,\n",
       "       130, 113, 129, 135, 157, 118, 123, 135,  89, 101, 116,  84, 124,\n",
       "       131, 119,  90,  61, 131, 152, 139, 113, 125,  95, 132, 146, 125,\n",
       "       113, 121, 105, 123, 116, 135, 110,  95,  85,  93,  96,  92,  82,\n",
       "        72,  65,  89,  79,  45,  49,  67,  80,  61,  58,  47,  38,  34,\n",
       "        27,   9])"
      ]
     },
     "execution_count": 408,
     "metadata": {},
     "output_type": "execute_result"
    }
   ],
   "source": [
    "# bin data\n",
    "bin_count = np.histogram(data['Average_Probs'], bins=80)\n",
    "bin_count[0]"
   ]
  },
  {
   "cell_type": "code",
   "execution_count": 388,
   "metadata": {},
   "outputs": [
    {
     "data": {
      "image/png": "[encoded data removed]",
      "text/plain": [
       "<matplotlib.figure.Figure at 0x7ff12a4220b8>"
      ]
     },
     "metadata": {},
     "output_type": "display_data"
    }
   ],
   "source": [
    "plt.hist(data['Average_Probs'], bins=80)\n",
    "plt.show()"
   ]
  },
  {
   "cell_type": "code",
   "execution_count": 389,
   "metadata": {},
   "outputs": [],
   "source": [
    "# calculate mean probability for each bin\n",
    "bins = scipy.stats.binned_statistic(data['Average_Probs'],data['Average_Probs'], \n",
    "                                    statistic='mean',bins=80)"
   ]
  },
  {
   "cell_type": "code",
   "execution_count": 411,
   "metadata": {},
   "outputs": [
    {
     "data": {
      "text/plain": [
       "BinnedStatisticResult(statistic=array([ 0.        ,         nan,  0.03329452,  0.04429468,  0.05685369,\n",
       "        0.0678409 ,  0.08027321,  0.09249062,  0.10475716,  0.11773472,\n",
       "        0.13004435,  0.14273355,  0.1548024 ,  0.16708827,  0.17956688,\n",
       "        0.19129972,  0.20302859,  0.2160409 ,  0.22905415,  0.24093341,\n",
       "        0.25382302,  0.2657355 ,  0.27851973,  0.28954807,  0.30288467,\n",
       "        0.31559212,  0.32777024,  0.33952472,  0.35272076,  0.3650828 ,\n",
       "        0.37717167,  0.39003345,  0.40167298,  0.41395981,  0.42577604,\n",
       "        0.4392356 ,  0.4520984 ,  0.46331355,  0.4760129 ,  0.48886864,\n",
       "        0.50103813,  0.51199644,  0.52590839,  0.53829889,  0.55049989,\n",
       "        0.56269575,  0.57538808,  0.58696442,  0.59893613,  0.61246531,\n",
       "        0.62461036,  0.63638582,  0.64954816,  0.66175927,  0.67424943,\n",
       "        0.68615949,  0.69904093,  0.71091783,  0.72331209,  0.7346406 ,\n",
       "        0.7485572 ,  0.76027001,  0.77278178,  0.78474167,  0.79799123,\n",
       "        0.80986633,  0.82218409,  0.83479585,  0.84700304,  0.85963656,\n",
       "        0.87204594,  0.8842781 ,  0.89630765,  0.90931672,  0.92121265,\n",
       "        0.93369801,  0.94513085,  0.95766691,  0.97046301,  0.98210175]), bin_edges=array([ 0.        ,  0.01236631,  0.02473263,  0.03709894,  0.04946526,\n",
       "        0.06183157,  0.07419789,  0.0865642 ,  0.09893052,  0.11129683,\n",
       "        0.12366315,  0.13602946,  0.14839578,  0.16076209,  0.17312841,\n",
       "        0.18549472,  0.19786104,  0.21022735,  0.22259366,  0.23495998,\n",
       "        0.24732629,  0.25969261,  0.27205892,  0.28442524,  0.29679155,\n",
       "        0.30915787,  0.32152418,  0.3338905 ,  0.34625681,  0.35862313,\n",
       "        0.37098944,  0.38335576,  0.39572207,  0.40808839,  0.4204547 ,\n",
       "        0.43282101,  0.44518733,  0.45755364,  0.46991996,  0.48228627,\n",
       "        0.49465259,  0.5070189 ,  0.51938522,  0.53175153,  0.54411785,\n",
       "        0.55648416,  0.56885048,  0.58121679,  0.59358311,  0.60594942,\n",
       "        0.61831574,  0.63068205,  0.64304836,  0.65541468,  0.66778099,\n",
       "        0.68014731,  0.69251362,  0.70487994,  0.71724625,  0.72961257,\n",
       "        0.74197888,  0.7543452 ,  0.76671151,  0.77907783,  0.79144414,\n",
       "        0.80381046,  0.81617677,  0.82854309,  0.8409094 ,  0.85327571,\n",
       "        0.86564203,  0.87800834,  0.89037466,  0.90274097,  0.91510729,\n",
       "        0.9274736 ,  0.93983992,  0.95220623,  0.96457255,  0.97693886,\n",
       "        0.98930518]), binnumber=array([66, 19, 55, ..., 55, 34,  1]))"
      ]
     },
     "execution_count": 411,
     "metadata": {},
     "output_type": "execute_result"
    }
   ],
   "source": [
    "bins"
   ]
  },
  {
   "cell_type": "code",
   "execution_count": 390,
   "metadata": {},
   "outputs": [
    {
     "data": {
      "text/plain": [
       "array([ 0.        ,         nan,  0.03329452,  0.04429468,  0.05685369,\n",
       "        0.0678409 ,  0.08027321,  0.09249062,  0.10475716,  0.11773472,\n",
       "        0.13004435,  0.14273355,  0.1548024 ,  0.16708827,  0.17956688,\n",
       "        0.19129972,  0.20302859,  0.2160409 ,  0.22905415,  0.24093341,\n",
       "        0.25382302,  0.2657355 ,  0.27851973,  0.28954807,  0.30288467,\n",
       "        0.31559212,  0.32777024,  0.33952472,  0.35272076,  0.3650828 ,\n",
       "        0.37717167,  0.39003345,  0.40167298,  0.41395981,  0.42577604,\n",
       "        0.4392356 ,  0.4520984 ,  0.46331355,  0.4760129 ,  0.48886864,\n",
       "        0.50103813,  0.51199644,  0.52590839,  0.53829889,  0.55049989,\n",
       "        0.56269575,  0.57538808,  0.58696442,  0.59893613,  0.61246531,\n",
       "        0.62461036,  0.63638582,  0.64954816,  0.66175927,  0.67424943,\n",
       "        0.68615949,  0.69904093,  0.71091783,  0.72331209,  0.7346406 ,\n",
       "        0.7485572 ,  0.76027001,  0.77278178,  0.78474167,  0.79799123,\n",
       "        0.80986633,  0.82218409,  0.83479585,  0.84700304,  0.85963656,\n",
       "        0.87204594,  0.8842781 ,  0.89630765,  0.90931672,  0.92121265,\n",
       "        0.93369801,  0.94513085,  0.95766691,  0.97046301,  0.98210175])"
      ]
     },
     "execution_count": 390,
     "metadata": {},
     "output_type": "execute_result"
    }
   ],
   "source": [
    "# shows implied consensus win % based on odds\n",
    "consensus_mean = bins.statistic\n",
    "consensus_mean"
   ]
  },
  {
   "cell_type": "code",
   "execution_count": 391,
   "metadata": {},
   "outputs": [],
   "source": [
    "bins_actual = scipy.stats.binned_statistic(data['Average_Probs'],data['Outcome'], \n",
    "                                    statistic='mean',bins=80)"
   ]
  },
  {
   "cell_type": "code",
   "execution_count": 392,
   "metadata": {},
   "outputs": [
    {
     "data": {
      "text/plain": [
       "array([ 0.51515152,         nan,  0.        ,  0.2       ,  0.05882353,\n",
       "        0.        ,  0.12903226,  0.13157895,  0.09803922,  0.15625   ,\n",
       "        0.14545455,  0.13333333,  0.09375   ,  0.21428571,  0.19298246,\n",
       "        0.32      ,  0.20224719,  0.25      ,  0.1971831 ,  0.23863636,\n",
       "        0.25287356,  0.20652174,  0.36082474,  0.31460674,  0.27884615,\n",
       "        0.32352941,  0.30769231,  0.36283186,  0.30232558,  0.31111111,\n",
       "        0.25477707,  0.43220339,  0.39837398,  0.41481481,  0.48314607,\n",
       "        0.37623762,  0.49137931,  0.48809524,  0.50806452,  0.46564885,\n",
       "        0.38655462,  0.6       ,  0.40983607,  0.54198473,  0.56578947,\n",
       "        0.48201439,  0.55752212,  0.48      ,  0.64210526,  0.53787879,\n",
       "        0.57534247,  0.568     ,  0.71681416,  0.7107438 ,  0.68571429,\n",
       "        0.70731707,  0.67241379,  0.68148148,  0.66363636,  0.74736842,\n",
       "        0.65882353,  0.6344086 ,  0.80208333,  0.73913043,  0.75609756,\n",
       "        0.81944444,  0.75384615,  0.7752809 ,  0.72151899,  0.77777778,\n",
       "        0.85714286,  0.86567164,  0.875     ,  0.83606557,  0.87931034,\n",
       "        0.85106383,  0.89473684,  0.97058824,  0.92592593,  0.88888889])"
      ]
     },
     "execution_count": 392,
     "metadata": {},
     "output_type": "execute_result"
    }
   ],
   "source": [
    "# shows the actual win % within each bin\n",
    "actual_mean = bins_actual.statistic\n",
    "actual_mean"
   ]
  },
  {
   "cell_type": "code",
   "execution_count": 393,
   "metadata": {},
   "outputs": [],
   "source": [
    "# check to make sure binning and calculations are as expected\n",
    "data['Bin_Number_Consensus'] = bins.binnumber"
   ]
  },
  {
   "cell_type": "code",
   "execution_count": 413,
   "metadata": {},
   "outputs": [
    {
     "data": {
      "image/png": "[encoded data removed]",
      "text/plain": [
       "<matplotlib.figure.Figure at 0x7ff12a5ca198>"
      ]
     },
     "metadata": {},
     "output_type": "display_data"
    }
   ],
   "source": [
    "plt.figure(figsize=(10,6))\n",
    "plt.plot(actual_mean[2:], label='Actual Win %')\n",
    "plt.plot(consensus_mean[2:], label='Consensus Implied Win %')\n",
    "plt.legend()\n",
    "plt.show()"
   ]
  },
  {
   "cell_type": "markdown",
   "metadata": {},
   "source": [
    "## WHY/HOW IS THIS LINEAR"
   ]
  }
 ],
 "metadata": {
  "kernelspec": {
   "display_name": "Python 3",
   "language": "python",
   "name": "python3"
  },
  "language_info": {
   "codemirror_mode": {
    "name": "ipython",
    "version": 3
   },
   "file_extension": ".py",
   "mimetype": "text/x-python",
   "name": "python",
   "nbconvert_exporter": "python",
   "pygments_lexer": "ipython3",
   "version": "3.6.3"
  }
 },
 "nbformat": 4,
 "nbformat_minor": 2
}
