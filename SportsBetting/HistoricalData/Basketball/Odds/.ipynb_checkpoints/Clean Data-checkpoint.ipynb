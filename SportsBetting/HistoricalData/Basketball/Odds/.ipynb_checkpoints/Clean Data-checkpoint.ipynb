{
 "cells": [
  {
   "cell_type": "code",
   "execution_count": 618,
   "metadata": {},
   "outputs": [],
   "source": [
    "import pandas as pd\n",
    "import numpy as np\n",
    "import math\n",
    "import scipy.stats\n",
    "import matplotlib.pyplot as plt\n",
    "%matplotlib inline\n",
    "from sklearn.linear_model import LinearRegression"
   ]
  },
  {
   "cell_type": "markdown",
   "metadata": {},
   "source": [
    "# Setup and Cleaning"
   ]
  },
  {
   "cell_type": "code",
   "execution_count": 438,
   "metadata": {},
   "outputs": [],
   "source": [
    "teamNames = ['Phoenix','Orlando','Washington','Detroit','Indiana','Atlanta',\n",
    "            'Toronto','Miami','Charlotte','Brooklyn','Cleveland','Memphis','Minnesota',\n",
    "            'Chicago','New Orleans','Dallas','Denver','San Antonio','Sacramento','L.A. Clippers',\n",
    "            'L.A. Lakers','Philadelphia','Boston', 'New York','Houston','Oklahoma City',\n",
    "            'Golden State','Utah','Portland','Milwaukee','Baltimore']"
   ]
  },
  {
   "cell_type": "code",
   "execution_count": 454,
   "metadata": {},
   "outputs": [
    {
     "name": "stderr",
     "output_type": "stream",
     "text": [
      "/home/richie10181/anaconda3/lib/python3.6/site-packages/IPython/core/interactiveshell.py:2728: DtypeWarning: Columns (5,7,11,15,19,23,27,31) have mixed types. Specify dtype option on import or set low_memory=False.\n",
      "  interactivity=interactivity, compiler=compiler, result=result)\n"
     ]
    }
   ],
   "source": [
    "# four months for each\n",
    "f1 = pd.read_csv('./Data Files/1_oct_2018_jan_2019.csv')\n",
    "f2 = pd.read_csv('./Data Files/2_feb_2018_may_2018.csv')\n",
    "f3 = pd.read_csv('./Data Files/3_oct_2017_dec_2017.csv')\n",
    "f4 = pd.read_csv('./Data Files/4_apr_2017_jun_2017.csv')\n",
    "f5 = pd.read_csv('./Data Files/5_nov_2016_feb_2017.csv')\n",
    "\n",
    "# 5 years for each\n",
    "f6 = pd.read_csv('./Data Files/apr_2014_may_2016.csv')\n",
    "f7 = pd.read_csv('./Data Files/apr_2009_mar_2014.csv')"
   ]
  },
  {
   "cell_type": "code",
   "execution_count": 455,
   "metadata": {},
   "outputs": [],
   "source": [
    "# append the separate dfs\n",
    "data = f1.append(f2)\n",
    "data = data.append(f3)\n",
    "data = data.append(f4)\n",
    "data = data.append(f5)\n",
    "data = data.append(f6)\n",
    "data = data.append(f7)"
   ]
  },
  {
   "cell_type": "code",
   "execution_count": 457,
   "metadata": {},
   "outputs": [],
   "source": [
    "# make sure each row has a date, teams, and points\n",
    "include = data['Date'].notnull() & data['Teams'].notnull() & data['Points'].notnull()"
   ]
  },
  {
   "cell_type": "code",
   "execution_count": 458,
   "metadata": {},
   "outputs": [],
   "source": [
    "# filter data to remove issues\n",
    "data = data[include]"
   ]
  },
  {
   "cell_type": "code",
   "execution_count": 459,
   "metadata": {},
   "outputs": [],
   "source": [
    "# fill NaN values with dash so they are not counted in odds calculation\n",
    "data = data.fillna(value='-')\n",
    "\n",
    "# remove unnamed column\n",
    "data = data.drop('Unnamed: 0', axis=1)"
   ]
  },
  {
   "cell_type": "markdown",
   "metadata": {},
   "source": [
    "## Important Inputs"
   ]
  },
  {
   "cell_type": "code",
   "execution_count": 765,
   "metadata": {},
   "outputs": [],
   "source": [
    "# minimum number of bookies supplying odds. fewer odds than the number below will be excluded\n",
    "min_number_odds = 12\n",
    "\n",
    "# how many outliers to remove (i.e. 2 means remove highest 2 and lowest 2 odds supplied)\n",
    "num_outliers = 2"
   ]
  },
  {
   "cell_type": "code",
   "execution_count": 862,
   "metadata": {},
   "outputs": [],
   "source": [
    "avg_odds_l = []\n",
    "avg_prob_l = []\n",
    "max_odds_l = []\n",
    "max_prob_l = []\n",
    "\n",
    "for i in range(len(data)):\n",
    "    \n",
    "    # sort odds in each row\n",
    "    sl = np.sort([int(x) for x in data.iloc[i,7:34].values if x != '-'])[::-1]\n",
    "\n",
    "    # remove top 2 and bottom 2 values (avoid outliers and data issues)\n",
    "    sl_sub = sl[num_outliers:len(sl)-num_outliers]\n",
    "\n",
    "    # calculate average odds of 24 remaining bookies\n",
    "    # only append new odds/probs if 5 bookies give odds\n",
    "    if len(sl_sub) > min_number_odds:\n",
    "        avg_odds = np.mean(sl_sub)\n",
    "        max_odds = np.max(sl_sub)\n",
    "        \n",
    "        probs_tmp = []\n",
    "        for odds in sl_sub:\n",
    "            # calculate implied probabilities using odds\n",
    "            if int(odds) > 0:\n",
    "                probs_tmp.append(1/(1 + int(odds)/100))\n",
    "            else:\n",
    "                probs_tmp.append((-int(odds)/100)/(1-int(odds)/100))\n",
    "\n",
    "        # calculate max prob\n",
    "        if int(max_odds) > 0:\n",
    "            max_prob_l.append(1/(1 + int(max_odds)/100))\n",
    "        else:\n",
    "            max_prob_l.append((-int(max_odds)/100)/(1-int(max_odds)/100))\n",
    "                \n",
    "        avg_odds_l.append(avg_odds)\n",
    "        avg_prob_l.append(np.mean(probs_tmp))\n",
    "        max_odds_l.append(max_odds)\n",
    "\n",
    "    else:\n",
    "        avg_odds_l.append(0)\n",
    "        avg_prob_l.append(0)\n",
    "        max_odds_l.append(0)\n",
    "        max_prob_l.append(0)"
   ]
  },
  {
   "cell_type": "code",
   "execution_count": 863,
   "metadata": {},
   "outputs": [],
   "source": [
    "# append computed odds and probabilities to dataframe\n",
    "data['Average_Odds'] = avg_odds_l\n",
    "data['Average_Probs'] = avg_prob_l\n",
    "data['Max_Odds'] = max_odds_l\n",
    "data['Max_Implied_Prob'] = max_prob_l"
   ]
  },
  {
   "cell_type": "code",
   "execution_count": 864,
   "metadata": {},
   "outputs": [],
   "source": [
    "# get rid of random team names in pts column\n",
    "include_pts1 = [False if data.iloc[i,3] in teamNames else True for i in range(len(data))]\n",
    "data = data[include_pts1]"
   ]
  },
  {
   "cell_type": "code",
   "execution_count": 865,
   "metadata": {},
   "outputs": [],
   "source": [
    "include_pts2 = [False if data.iloc[i,3] == '-' else True for i in range(len(data))]\n",
    "data = data[include_pts2]"
   ]
  },
  {
   "cell_type": "code",
   "execution_count": 866,
   "metadata": {},
   "outputs": [],
   "source": [
    "# get rid of ridiculous point totals\n",
    "# these totals occur in same game when team name is stored as other team's point total\n",
    "include_pts3 = [False if int(data.iloc[i,3]) > 200 or int(data.iloc[i,3]) < 0\n",
    "                else True for i in range(len(data))]\n",
    "data = data[include_pts3]"
   ]
  },
  {
   "cell_type": "code",
   "execution_count": 867,
   "metadata": {},
   "outputs": [],
   "source": [
    "# sometimes only one team was pulled. use gameID to filter for these and throw them out\n",
    "games_check = []\n",
    "for i in range(len(data)-1):\n",
    "    if data.iloc[i,0] == data.iloc[i-1,0] or data.iloc[i,0] == data.iloc[i+1,0]:\n",
    "        games_check.append(True)\n",
    "    else:\n",
    "        games_check.append(False)"
   ]
  },
  {
   "cell_type": "code",
   "execution_count": 868,
   "metadata": {},
   "outputs": [],
   "source": [
    "# last two teams make up appropriate game, so append a 1\n",
    "games_check.append(True)"
   ]
  },
  {
   "cell_type": "code",
   "execution_count": 869,
   "metadata": {},
   "outputs": [],
   "source": [
    "# filter for games\n",
    "data = data[games_check]"
   ]
  },
  {
   "cell_type": "code",
   "execution_count": 870,
   "metadata": {},
   "outputs": [],
   "source": [
    "# create column for outcome of game\n",
    "outcome_arr = [[0,1] if int(data.iloc[i,3]) > int(data.iloc[i-1,3]) else [1,0] for i in range(1,len(data),2)]"
   ]
  },
  {
   "cell_type": "code",
   "execution_count": 871,
   "metadata": {},
   "outputs": [],
   "source": [
    "# reshape array so shape is compatible with dataframe\n",
    "outcome_l = [x[0] for x in np.array(outcome_arr).reshape(len(outcome_arr)*2,1)]\n",
    "data['Outcome'] = outcome_l"
   ]
  },
  {
   "cell_type": "code",
   "execution_count": 872,
   "metadata": {},
   "outputs": [],
   "source": [
    "# create home/away column and append\n",
    "home_away_l = ['Home' if i % 2 == 0 else 'Away' for i in range(1,len(data)+1)]\n",
    "data['Home_Away'] = home_away_l"
   ]
  },
  {
   "cell_type": "markdown",
   "metadata": {},
   "source": [
    "## Sanity Checks"
   ]
  },
  {
   "cell_type": "code",
   "execution_count": 873,
   "metadata": {},
   "outputs": [
    {
     "name": "stdout",
     "output_type": "stream",
     "text": [
      "All gameIDs in pairs? True\n"
     ]
    }
   ],
   "source": [
    "# make sure all games include 2 teams\n",
    "test_gameID = [[1,1] if data.iloc[i,0] == data.iloc[i-1,0] else [0,0] for i in range(1,len(data),2)]\n",
    "test_gameID_l = [x[0] for x in np.array(test_gameID).reshape(len(test_gameID)*2,1)]\n",
    "print('All gameIDs in pairs?', len(test_gameID_l) == sum(test_gameID_l))"
   ]
  },
  {
   "cell_type": "markdown",
   "metadata": {},
   "source": [
    "### insert things here if necessary"
   ]
  },
  {
   "cell_type": "code",
   "execution_count": 874,
   "metadata": {},
   "outputs": [],
   "source": [
    "# export cleaned data\n",
    "data.to_csv('./Data Files/cleaned_data.csv', sep=',')"
   ]
  },
  {
   "cell_type": "markdown",
   "metadata": {},
   "source": [
    "# Analysis"
   ]
  },
  {
   "cell_type": "markdown",
   "metadata": {},
   "source": [
    "## Binning - All Games and Outcomes (no controlling for win/loss)"
   ]
  },
  {
   "cell_type": "markdown",
   "metadata": {},
   "source": [
    "### Important Inputs"
   ]
  },
  {
   "cell_type": "code",
   "execution_count": 875,
   "metadata": {},
   "outputs": [],
   "source": [
    "num_bins = 100"
   ]
  },
  {
   "cell_type": "markdown",
   "metadata": {},
   "source": [
    "### why not create bins manually so more obsevations in each???"
   ]
  },
  {
   "cell_type": "code",
   "execution_count": 876,
   "metadata": {},
   "outputs": [
    {
     "data": {
      "text/plain": [
       "array([2755,    0,    0,    0,    2,    9,   12,   23,   23,   29,   44,\n",
       "         46,   58,   53,   66,   56,   48,   55,   89,   98,  117,   82,\n",
       "         96,   88,  132,  110,  139,  137,  143,  136,  157,  140,  142,\n",
       "        191,  160,  179,  183,  199,  192,  161,  191,  186,  186,  140,\n",
       "        148,  151,  154,  126,  164,  158,  163,  169,  105,  114,  177,\n",
       "        166,  180,  158,  158,  174,  171,  159,  202,  195,  193,  149,\n",
       "        152,  176,  160,  179,  146,  189,  165,  155,  166,  110,  127,\n",
       "        127,  142,  132,  120,   98,   90,   85,  114,  103,   82,   57,\n",
       "         48,   58,   78,   56,   54,   50,   41,   32,   25,   20,   16,\n",
       "          4])"
      ]
     },
     "execution_count": 876,
     "metadata": {},
     "output_type": "execute_result"
    }
   ],
   "source": [
    "# bin data\n",
    "bin_count = np.histogram(data['Average_Probs'], bins=num_bins)\n",
    "bin_count[0]"
   ]
  },
  {
   "cell_type": "code",
   "execution_count": 877,
   "metadata": {},
   "outputs": [
    {
     "data": {
      "image/png": "[encoded data removed]",
      "text/plain": [
       "<matplotlib.figure.Figure at 0x7ff13c9ad860>"
      ]
     },
     "metadata": {},
     "output_type": "display_data"
    }
   ],
   "source": [
    "# show all bins except 0 - many discarded due to too few odds available\n",
    "plt.figure(figsize=(10,6))\n",
    "plt.hist(data['Average_Probs'], bins=num_bins)\n",
    "plt.xlim(.01,1)\n",
    "plt.ylim(0,250)\n",
    "plt.title('NBA Implied Win Probabilities (2009-2019) - 100 Bins')\n",
    "plt.show()"
   ]
  },
  {
   "cell_type": "code",
   "execution_count": 878,
   "metadata": {},
   "outputs": [],
   "source": [
    "# calculate mean probability for each bin\n",
    "bins = scipy.stats.binned_statistic(data['Average_Probs'],data['Average_Probs'], \n",
    "                                    statistic='mean',bins=num_bins)"
   ]
  },
  {
   "cell_type": "code",
   "execution_count": 879,
   "metadata": {},
   "outputs": [
    {
     "data": {
      "text/plain": [
       "array([ 0.        ,         nan,         nan,         nan,  0.04355375,\n",
       "        0.05614902,  0.06406641,  0.07417754,  0.08364973,  0.09357064,\n",
       "        0.10342844,  0.11336746,  0.12312793,  0.13312561,  0.14352384,\n",
       "        0.15229387,  0.16161259,  0.17258934,  0.18282076,  0.19195456,\n",
       "        0.20189206,  0.21162108,  0.22194445,  0.23235419,  0.24150966,\n",
       "        0.25150298,  0.26108613,  0.27092021,  0.28141144,  0.29066714,\n",
       "        0.30086084,  0.31068606,  0.32023803,  0.33038868,  0.34027486,\n",
       "        0.35042839,  0.36007508,  0.36987121,  0.37934551,  0.38946204,\n",
       "        0.39928067,  0.40925665,  0.41874769,  0.42856675,  0.43866326,\n",
       "        0.44855667,  0.45833191,  0.46841874,  0.477961  ,  0.48816202,\n",
       "        0.49770919,  0.50746098,  0.51703818,  0.52753508,  0.5374548 ,\n",
       "        0.54722241,  0.55696353,  0.56676511,  0.57685727,  0.58628957,\n",
       "        0.59622055,  0.60678993,  0.6163781 ,  0.62599946,  0.63560991,\n",
       "        0.64593848,  0.65552232,  0.66523808,  0.67528593,  0.68486734,\n",
       "        0.6948668 ,  0.70485729,  0.71456244,  0.72450893,  0.73418474,\n",
       "        0.74423724,  0.75369991,  0.76391397,  0.77361543,  0.78331951,\n",
       "        0.79336571,  0.80303545,  0.81327649,  0.82310271,  0.83334763,\n",
       "        0.84313734,  0.85225759,  0.862306  ,  0.87240394,  0.88202738,\n",
       "        0.89246038,  0.9021996 ,  0.91243067,  0.92184541,  0.93204088,\n",
       "        0.94147039,  0.95178565,  0.96063599,  0.97054525,  0.98008247])"
      ]
     },
     "execution_count": 879,
     "metadata": {},
     "output_type": "execute_result"
    }
   ],
   "source": [
    "# shows implied consensus win % based on odds\n",
    "consensus_mean = bins.statistic\n",
    "consensus_mean"
   ]
  },
  {
   "cell_type": "code",
   "execution_count": 880,
   "metadata": {},
   "outputs": [],
   "source": [
    "bins_actual = scipy.stats.binned_statistic(data['Average_Probs'],data['Outcome'], \n",
    "                                    statistic='mean',bins=num_bins)"
   ]
  },
  {
   "cell_type": "code",
   "execution_count": 881,
   "metadata": {},
   "outputs": [
    {
     "data": {
      "text/plain": [
       "array([ 0.49909256,         nan,         nan,         nan,  0.5       ,\n",
       "        0.        ,  0.08333333,  0.04347826,  0.17391304,  0.13793103,\n",
       "        0.13636364,  0.13043478,  0.18965517,  0.0754717 ,  0.15151515,\n",
       "        0.17857143,  0.1875    ,  0.16363636,  0.21348315,  0.2755102 ,\n",
       "        0.1965812 ,  0.18292683,  0.1875    ,  0.25      ,  0.21212121,\n",
       "        0.29090909,  0.24460432,  0.30656934,  0.27972028,  0.28676471,\n",
       "        0.2866242 ,  0.32857143,  0.31690141,  0.29319372,  0.34375   ,\n",
       "        0.32960894,  0.29508197,  0.35175879,  0.30729167,  0.40372671,\n",
       "        0.36649215,  0.46774194,  0.36021505,  0.39285714,  0.39189189,\n",
       "        0.49668874,  0.36363636,  0.53174603,  0.45731707,  0.39240506,\n",
       "        0.39877301,  0.47928994,  0.6       ,  0.42105263,  0.53672316,\n",
       "        0.65060241,  0.52222222,  0.53164557,  0.61392405,  0.51724138,\n",
       "        0.61403509,  0.58490566,  0.62871287,  0.60512821,  0.62176166,\n",
       "        0.62416107,  0.69736842,  0.64204545,  0.69375   ,  0.66480447,\n",
       "        0.70547945,  0.67195767,  0.68484848,  0.65806452,  0.72891566,\n",
       "        0.73636364,  0.67716535,  0.7480315 ,  0.71126761,  0.77272727,\n",
       "        0.74166667,  0.78571429,  0.78888889,  0.84705882,  0.77192982,\n",
       "        0.72815534,  0.81707317,  0.78947368,  0.75      ,  0.86206897,\n",
       "        0.84615385,  0.89285714,  0.7962963 ,  0.88      ,  0.87804878,\n",
       "        0.8125    ,  0.92      ,  0.95      ,  0.9375    ,  0.75      ])"
      ]
     },
     "execution_count": 881,
     "metadata": {},
     "output_type": "execute_result"
    }
   ],
   "source": [
    "# shows the actual win % within each bin\n",
    "actual_mean = bins_actual.statistic\n",
    "actual_mean"
   ]
  },
  {
   "cell_type": "code",
   "execution_count": 882,
   "metadata": {},
   "outputs": [],
   "source": [
    "# check to make sure binning and calculations are as expected\n",
    "data['Bin_Number_Consensus'] = bins.binnumber"
   ]
  },
  {
   "cell_type": "code",
   "execution_count": 883,
   "metadata": {},
   "outputs": [
    {
     "data": {
      "image/png": "[encoded data removed]",
      "text/plain": [
       "<matplotlib.figure.Figure at 0x7ff125c5fd30>"
      ]
     },
     "metadata": {},
     "output_type": "display_data"
    }
   ],
   "source": [
    "plt.figure(figsize=(10,6))\n",
    "plt.plot(actual_mean[2:], label='Actual Win %')\n",
    "plt.plot(consensus_mean[2:], label='Consensus Implied Win %')\n",
    "plt.legend()\n",
    "plt.show()"
   ]
  },
  {
   "cell_type": "markdown",
   "metadata": {},
   "source": [
    "^^^^^^ WHY/HOW IS THIS SO LINEAR"
   ]
  },
  {
   "cell_type": "code",
   "execution_count": null,
   "metadata": {},
   "outputs": [],
   "source": []
  },
  {
   "cell_type": "markdown",
   "metadata": {},
   "source": [
    "### Regression"
   ]
  },
  {
   "cell_type": "code",
   "execution_count": 884,
   "metadata": {},
   "outputs": [],
   "source": [
    "# filter for bins with more than 50 games\n",
    "bin_filter = bin_count[0] > 160"
   ]
  },
  {
   "cell_type": "code",
   "execution_count": 885,
   "metadata": {},
   "outputs": [],
   "source": [
    "X = consensus_mean[bin_filter].reshape(-1,1)[1:]\n",
    "y = actual_mean[bin_filter][1:]"
   ]
  },
  {
   "cell_type": "code",
   "execution_count": 886,
   "metadata": {},
   "outputs": [],
   "source": [
    "lm = LinearRegression().fit(X,y)"
   ]
  },
  {
   "cell_type": "code",
   "execution_count": 887,
   "metadata": {},
   "outputs": [
    {
     "data": {
      "text/plain": [
       "array([ 1.04162591])"
      ]
     },
     "execution_count": 887,
     "metadata": {},
     "output_type": "execute_result"
    }
   ],
   "source": [
    "lm.coef_"
   ]
  },
  {
   "cell_type": "code",
   "execution_count": 888,
   "metadata": {},
   "outputs": [
    {
     "data": {
      "text/plain": [
       "-0.041658869770893059"
      ]
     },
     "execution_count": 888,
     "metadata": {},
     "output_type": "execute_result"
    }
   ],
   "source": [
    "lm.intercept_"
   ]
  },
  {
   "cell_type": "code",
   "execution_count": 889,
   "metadata": {},
   "outputs": [
    {
     "data": {
      "image/png": "[encoded data removed]",
      "text/plain": [
       "<matplotlib.figure.Figure at 0x7ff1256631d0>"
      ]
     },
     "metadata": {},
     "output_type": "display_data"
    }
   ],
   "source": [
    "plt.figure(figsize=(10,6))\n",
    "plt.scatter(X, y)\n",
    "plt.xlabel('Consensus Implied Win %')\n",
    "plt.ylabel('Actual Win %')\n",
    "plt.title('Implied Odds vs. Actual Outcomes (2009 - 2019)')\n",
    "plt.legend()"
   ]
  },
  {
   "cell_type": "markdown",
   "metadata": {},
   "source": [
    "### Notes\n",
    "1. increasing bin filter number increases slope\n",
    "    - big difference even between 120 and 150\n",
    "2. changing number of bins does not change coef or intercept materially\n",
    "3. changing min number of odds does change the intercept materially"
   ]
  },
  {
   "cell_type": "code",
   "execution_count": null,
   "metadata": {},
   "outputs": [],
   "source": []
  },
  {
   "cell_type": "markdown",
   "metadata": {},
   "source": [
    "### High-Level Backtest"
   ]
  },
  {
   "cell_type": "code",
   "execution_count": 890,
   "metadata": {},
   "outputs": [],
   "source": [
    "alpha = 0.05"
   ]
  },
  {
   "cell_type": "code",
   "execution_count": 891,
   "metadata": {},
   "outputs": [],
   "source": [
    "# IDEA - need implied prob to be lower than real prob\n",
    "data['Consensus_Minus_Alpha'] = data['Average_Probs'] - alpha"
   ]
  },
  {
   "cell_type": "code",
   "execution_count": 899,
   "metadata": {},
   "outputs": [],
   "source": [
    "filter_signal = data['Max_Implied_Prob'] < data['Consensus_Minus_Alpha']\n",
    "data['Signal'] = [int(x) for x in filter_signal]"
   ]
  },
  {
   "cell_type": "code",
   "execution_count": 916,
   "metadata": {},
   "outputs": [
    {
     "data": {
      "text/plain": [
       "0.52116850127011"
      ]
     },
     "execution_count": 916,
     "metadata": {},
     "output_type": "execute_result"
    }
   ],
   "source": [
    "# check % of wins when signal = 1\n",
    "# NOTE: this is not indicative of profit - profit will depend on payout\n",
    "# HOWEVER: still useful to understand win rate\n",
    "np.mean(data.iloc[np.where(data['Signal']==1)[0],:]['Outcome'])"
   ]
  },
  {
   "cell_type": "code",
   "execution_count": 960,
   "metadata": {},
   "outputs": [],
   "source": [
    "# add payout for each bet if successful\n",
    "payout = [-100/x if int(x) < 0 else x/100 for x in data['Max_Odds']]\n",
    "data['Payout_if_Win'] = payout"
   ]
  },
  {
   "cell_type": "code",
   "execution_count": 968,
   "metadata": {},
   "outputs": [],
   "source": [
    "#decimal = [100/x+1 if int(x) < 0 else x/100+1 for x in data['Max_Odds']]\n",
    "#data['Max_Decimal_Odds'] = decimal"
   ]
  },
  {
   "cell_type": "code",
   "execution_count": 964,
   "metadata": {},
   "outputs": [],
   "source": [
    "# add expected value of each bet - this will be numerator of kelly\n",
    "expectation = [data.iloc[i,45]*data.iloc[i,39]+ (-1)*(1-data.iloc[i,39]) for i in range(len(data))]\n",
    "data['Expected_Value'] = expectation"
   ]
  },
  {
   "cell_type": "code",
   "execution_count": 977,
   "metadata": {},
   "outputs": [
    {
     "data": {
      "text/html": [
       "<div>\n",
       "<style>\n",
       "    .dataframe thead tr:only-child th {\n",
       "        text-align: right;\n",
       "    }\n",
       "\n",
       "    .dataframe thead th {\n",
       "        text-align: left;\n",
       "    }\n",
       "\n",
       "    .dataframe tbody tr th {\n",
       "        vertical-align: top;\n",
       "    }\n",
       "</style>\n",
       "<table border=\"1\" class=\"dataframe\">\n",
       "  <thead>\n",
       "    <tr style=\"text-align: right;\">\n",
       "      <th></th>\n",
       "      <th>GameID</th>\n",
       "      <th>Date</th>\n",
       "      <th>Teams</th>\n",
       "      <th>Points</th>\n",
       "      <th>Wagers</th>\n",
       "      <th>Opener</th>\n",
       "      <th>Pinnacle</th>\n",
       "      <th>Fivedimes</th>\n",
       "      <th>Bookmaker</th>\n",
       "      <th>BetOnline</th>\n",
       "      <th>...</th>\n",
       "      <th>Average_Probs</th>\n",
       "      <th>Outcome</th>\n",
       "      <th>Home_Away</th>\n",
       "      <th>Bin_Number_Consensus</th>\n",
       "      <th>Consensus_Minus_Alpha</th>\n",
       "      <th>Max_Odds</th>\n",
       "      <th>Max_Implied_Prob</th>\n",
       "      <th>Signal</th>\n",
       "      <th>Expected_Value</th>\n",
       "      <th>Payout_if_Win</th>\n",
       "    </tr>\n",
       "  </thead>\n",
       "  <tbody>\n",
       "  </tbody>\n",
       "</table>\n",
       "<p>0 rows × 45 columns</p>\n",
       "</div>"
      ],
      "text/plain": [
       "Empty DataFrame\n",
       "Columns: [GameID, Date, Teams, Points, Wagers, Opener, Pinnacle, Fivedimes, Bookmaker, BetOnline, Bovada, Heritage, Intertops, Youwager, Justbet, Sportsbetting, Gtbets, Sportbet, Nitrogensports, Betphoenix, Betmania, Skybook, Mybookie, Abcislands, Jazz, Sportsinteraction, Betcris, Sbr, Wagerweb, Thegreek, Bodog, Matchbook, Looselines, Bet365, Average_Odds, Average_Probs, Outcome, Home_Away, Bin_Number_Consensus, Consensus_Minus_Alpha, Max_Odds, Max_Implied_Prob, Signal, Expected_Value, Payout_if_Win]\n",
       "Index: []\n",
       "\n",
       "[0 rows x 45 columns]"
      ]
     },
     "execution_count": 977,
     "metadata": {},
     "output_type": "execute_result"
    }
   ],
   "source": [
    "# make sure no games where signal = 1 have negative expectation\n",
    "data.iloc[np.where((data['Signal'] == 1) & (data['Expected_Value'] < 0))[0],:]"
   ]
  },
  {
   "cell_type": "code",
   "execution_count": 979,
   "metadata": {},
   "outputs": [],
   "source": [
    "# subset where signal = 1 so we put on a position\n",
    "bets_subset = data.iloc[np.where(data['Signal'] == 1)[0],:]"
   ]
  },
  {
   "cell_type": "code",
   "execution_count": 981,
   "metadata": {},
   "outputs": [],
   "source": [
    "# calculate our win/loss if we entered all games where signal = 1\n",
    "bet_outcomes = [bets_subset.iloc[i,44] if bets_subset.iloc[i,36] == 1 \n",
    "                else -1 \n",
    "                for i in range(len(bets_subset))]\n",
    "bets_subset['PnL'] = bet_outcomes"
   ]
  },
  {
   "cell_type": "code",
   "execution_count": 1026,
   "metadata": {},
   "outputs": [
    {
     "name": "stdout",
     "output_type": "stream",
     "text": [
      "Number of Bets: 2362\n",
      "Number of Wins 1231\n",
      "Number of Losses: 1131\n",
      "Average Win/Loss Amount: 0.6176546655508351\n",
      "Median Win/Loss Amount: 0.396078431373\n",
      "Sum Win/Loss: 1458.9003200310726\n"
     ]
    }
   ],
   "source": [
    "print('Number of Bets:',len(bets_subset['PnL']))\n",
    "print('Number of Wins', sum(bets_subset['Outcome']))\n",
    "print('Number of Losses:', len(np.where(bets_subset['Outcome']==0)[0]))\n",
    "print('Average Win/Loss Amount:',np.mean(bets_subset['PnL']))\n",
    "print('Median Win/Loss Amount:', np.median(bets_subset['PnL']))\n",
    "print('Sum Win/Loss:',np.sum(bets_subset['PnL']))"
   ]
  },
  {
   "cell_type": "code",
   "execution_count": 1015,
   "metadata": {},
   "outputs": [
    {
     "data": {
      "text/plain": [
       "(array([1131,  355,  425,  206,   96,   79,   23,   11,   10,    6,    6,\n",
       "           1,    1,    3,    1,    1,    3,    1,    0,    0]),\n",
       " array([-1,  0,  1,  2,  3,  4,  5,  6,  7,  8,  9, 10, 11, 12, 13, 14, 15,\n",
       "        16, 17, 18, 19]))"
      ]
     },
     "execution_count": 1015,
     "metadata": {},
     "output_type": "execute_result"
    }
   ],
   "source": [
    "np.histogram(bets_subset['PnL'], bins=range(-1,20))"
   ]
  },
  {
   "cell_type": "code",
   "execution_count": 1027,
   "metadata": {},
   "outputs": [
    {
     "data": {
      "image/png": "[encoded data removed]",
      "text/plain": [
       "<matplotlib.figure.Figure at 0x7ff12a1242b0>"
      ]
     },
     "metadata": {},
     "output_type": "display_data"
    }
   ],
   "source": [
    "plt.hist(bets_subset['PnL'], bins=range(-1,20))\n",
    "plt.show()"
   ]
  },
  {
   "cell_type": "code",
   "execution_count": 1024,
   "metadata": {},
   "outputs": [],
   "source": [
    "dollars_risked = len(bets_subset['PnL'])\n",
    "net_dollars_received = np.sum(bets_subset['PnL'])\n",
    "annual_growth = ((dollars_risked + net_dollars_received)/dollars_risked)**(1/10)-1"
   ]
  },
  {
   "cell_type": "code",
   "execution_count": 1025,
   "metadata": {},
   "outputs": [
    {
     "data": {
      "text/plain": [
       "0.049273202387904114"
      ]
     },
     "execution_count": 1025,
     "metadata": {},
     "output_type": "execute_result"
    }
   ],
   "source": [
    "annual_growth"
   ]
  },
  {
   "cell_type": "code",
   "execution_count": 1033,
   "metadata": {},
   "outputs": [],
   "source": [
    "#bets_subset.iloc[np.where(bets_subset['PnL'] > 15)[0],:].iloc[3,:]"
   ]
  },
  {
   "cell_type": "markdown",
   "metadata": {},
   "source": [
    "### ^^^^ these are fucked up. data error causing appearance of mispricing"
   ]
  },
  {
   "cell_type": "markdown",
   "metadata": {},
   "source": [
    "### Comment\n",
    "- even though some odds here are incorrectly calculated due to scraping error, i think strategy is sound"
   ]
  },
  {
   "cell_type": "code",
   "execution_count": null,
   "metadata": {},
   "outputs": [],
   "source": []
  }
 ],
 "metadata": {
  "kernelspec": {
   "display_name": "Python 3",
   "language": "python",
   "name": "python3"
  },
  "language_info": {
   "codemirror_mode": {
    "name": "ipython",
    "version": 3
   },
   "file_extension": ".py",
   "mimetype": "text/x-python",
   "name": "python",
   "nbconvert_exporter": "python",
   "pygments_lexer": "ipython3",
   "version": "3.6.3"
  }
 },
 "nbformat": 4,
 "nbformat_minor": 2
}
