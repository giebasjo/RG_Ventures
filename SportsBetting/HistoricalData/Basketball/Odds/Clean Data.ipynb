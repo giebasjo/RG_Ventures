{
 "cells": [
  {
   "cell_type": "code",
   "execution_count": 1,
   "metadata": {},
   "outputs": [],
   "source": [
    "import pandas as pd\n",
    "import numpy as np\n",
    "import math\n",
    "import scipy.stats\n",
    "import matplotlib.pyplot as plt\n",
    "%matplotlib inline\n",
    "from sklearn.linear_model import LinearRegression"
   ]
  },
  {
   "cell_type": "markdown",
   "metadata": {},
   "source": [
    "# Setup and Cleaning"
   ]
  },
  {
   "cell_type": "code",
   "execution_count": 2,
   "metadata": {},
   "outputs": [],
   "source": [
    "teamNames = ['Phoenix','Orlando','Washington','Detroit','Indiana','Atlanta',\n",
    "            'Toronto','Miami','Charlotte','Brooklyn','Cleveland','Memphis','Minnesota',\n",
    "            'Chicago','New Orleans','Dallas','Denver','San Antonio','Sacramento','L.A. Clippers',\n",
    "            'L.A. Lakers','Philadelphia','Boston', 'New York','Houston','Oklahoma City',\n",
    "            'Golden State','Utah','Portland','Milwaukee','Baltimore']"
   ]
  },
  {
   "cell_type": "code",
   "execution_count": 3,
   "metadata": {},
   "outputs": [
    {
     "name": "stderr",
     "output_type": "stream",
     "text": [
      "/home/richie10181/anaconda3/lib/python3.6/site-packages/IPython/core/interactiveshell.py:2728: DtypeWarning: Columns (5,7,11,15,19,23,27,31) have mixed types. Specify dtype option on import or set low_memory=False.\n",
      "  interactivity=interactivity, compiler=compiler, result=result)\n"
     ]
    }
   ],
   "source": [
    "# four months for each\n",
    "f1 = pd.read_csv('./Data Files/1_oct_2018_jan_2019.csv')\n",
    "f2 = pd.read_csv('./Data Files/2_feb_2018_may_2018.csv')\n",
    "f3 = pd.read_csv('./Data Files/3_oct_2017_dec_2017.csv')\n",
    "f4 = pd.read_csv('./Data Files/4_apr_2017_jun_2017.csv')\n",
    "f5 = pd.read_csv('./Data Files/5_nov_2016_feb_2017.csv')\n",
    "\n",
    "# 5 years for each\n",
    "f6 = pd.read_csv('./Data Files/apr_2014_may_2016.csv')\n",
    "f7 = pd.read_csv('./Data Files/apr_2009_mar_2014.csv')"
   ]
  },
  {
   "cell_type": "code",
   "execution_count": 4,
   "metadata": {},
   "outputs": [],
   "source": [
    "# append the separate dfs\n",
    "data = f1.append(f2)\n",
    "data = data.append(f3)\n",
    "data = data.append(f4)\n",
    "data = data.append(f5)\n",
    "data = data.append(f6)\n",
    "data = data.append(f7)"
   ]
  },
  {
   "cell_type": "code",
   "execution_count": 5,
   "metadata": {},
   "outputs": [],
   "source": [
    "# make sure each row has a date, teams, and points\n",
    "include = data['Date'].notnull() & data['Teams'].notnull() & data['Points'].notnull()"
   ]
  },
  {
   "cell_type": "code",
   "execution_count": 6,
   "metadata": {},
   "outputs": [],
   "source": [
    "# filter data to remove issues\n",
    "data = data[include]"
   ]
  },
  {
   "cell_type": "code",
   "execution_count": 7,
   "metadata": {},
   "outputs": [],
   "source": [
    "# fill NaN values with dash so they are not counted in odds calculation\n",
    "data = data.fillna(value='-')\n",
    "\n",
    "# remove unnamed column\n",
    "data = data.drop('Unnamed: 0', axis=1)"
   ]
  },
  {
   "cell_type": "markdown",
   "metadata": {},
   "source": [
    "## Important Inputs"
   ]
  },
  {
   "cell_type": "code",
   "execution_count": 62,
   "metadata": {},
   "outputs": [],
   "source": [
    "# minimum number of bookies supplying odds. fewer odds than the number below will be excluded\n",
    "min_number_odds = 12\n",
    "\n",
    "# how many outliers to remove (i.e. 2 means remove highest 2 and lowest 2 odds supplied)\n",
    "num_outliers = 3"
   ]
  },
  {
   "cell_type": "code",
   "execution_count": 63,
   "metadata": {},
   "outputs": [],
   "source": [
    "avg_odds_l = []\n",
    "avg_prob_l = []\n",
    "max_odds_l = []\n",
    "max_prob_l = []\n",
    "\n",
    "for i in range(len(data)):\n",
    "    \n",
    "    # sort odds in each row\n",
    "    sl = np.sort([int(x) for x in data.iloc[i,7:34].values if x != '-'])[::-1]\n",
    "\n",
    "    # remove top 2 and bottom 2 values (avoid outliers and data issues)\n",
    "    sl_sub = sl[num_outliers:len(sl)-num_outliers]\n",
    "\n",
    "    # calculate average odds of 24 remaining bookies\n",
    "    # only append new odds/probs if x bookies give odds\n",
    "    if len(sl_sub) > min_number_odds:\n",
    "        avg_odds = np.mean(sl_sub)\n",
    "        max_odds = np.max(sl_sub)\n",
    "        \n",
    "        if max(sl_sub) - min(sl_sub) < 275:\n",
    "            probs_tmp = []\n",
    "            for odds in sl_sub:\n",
    "                # calculate implied probabilities using odds\n",
    "                if int(odds) > 0:\n",
    "                    probs_tmp.append(1/(1 + int(odds)/100))\n",
    "                else:\n",
    "                    probs_tmp.append((-int(odds)/100)/(1-int(odds)/100))\n",
    "\n",
    "            # calculate max prob\n",
    "            if int(max_odds) > 0:\n",
    "                max_prob_l.append(1/(1 + int(max_odds)/100))\n",
    "            else:\n",
    "                max_prob_l.append((-int(max_odds)/100)/(1-int(max_odds)/100))\n",
    "\n",
    "            avg_odds_l.append(avg_odds)\n",
    "            avg_prob_l.append(np.mean(probs_tmp))\n",
    "            max_odds_l.append(max_odds)\n",
    "        \n",
    "        else:\n",
    "            avg_odds_l.append(0)\n",
    "            avg_prob_l.append(0)\n",
    "            max_odds_l.append(0)\n",
    "            max_prob_l.append(0)\n",
    "\n",
    "    else:\n",
    "        avg_odds_l.append(0)\n",
    "        avg_prob_l.append(0)\n",
    "        max_odds_l.append(0)\n",
    "        max_prob_l.append(0)"
   ]
  },
  {
   "cell_type": "code",
   "execution_count": 64,
   "metadata": {},
   "outputs": [],
   "source": [
    "# append computed odds and probabilities to dataframe\n",
    "data['Average_Odds'] = avg_odds_l\n",
    "data['Average_Probs'] = avg_prob_l\n",
    "data['Max_Odds'] = max_odds_l\n",
    "data['Max_Implied_Prob'] = max_prob_l"
   ]
  },
  {
   "cell_type": "code",
   "execution_count": 65,
   "metadata": {},
   "outputs": [],
   "source": [
    "# get rid of random team names in pts column\n",
    "include_pts1 = [False if data.iloc[i,3] in teamNames else True for i in range(len(data))]\n",
    "data = data[include_pts1]"
   ]
  },
  {
   "cell_type": "code",
   "execution_count": 66,
   "metadata": {},
   "outputs": [],
   "source": [
    "include_pts2 = [False if data.iloc[i,3] == '-' else True for i in range(len(data))]\n",
    "data = data[include_pts2]"
   ]
  },
  {
   "cell_type": "code",
   "execution_count": 67,
   "metadata": {},
   "outputs": [],
   "source": [
    "# get rid of ridiculous point totals\n",
    "# these totals occur in same game when team name is stored as other team's point total\n",
    "include_pts3 = [False if int(data.iloc[i,3]) > 200 or int(data.iloc[i,3]) < 0\n",
    "                else True for i in range(len(data))]\n",
    "data = data[include_pts3]"
   ]
  },
  {
   "cell_type": "code",
   "execution_count": 68,
   "metadata": {},
   "outputs": [],
   "source": [
    "# sometimes only one team was pulled. use gameID to filter for these and throw them out\n",
    "games_check = []\n",
    "for i in range(len(data)-1):\n",
    "    if data.iloc[i,0] == data.iloc[i-1,0] or data.iloc[i,0] == data.iloc[i+1,0]:\n",
    "        games_check.append(True)\n",
    "    else:\n",
    "        games_check.append(False)"
   ]
  },
  {
   "cell_type": "code",
   "execution_count": 69,
   "metadata": {},
   "outputs": [],
   "source": [
    "# last two teams make up appropriate game, so append a 1\n",
    "games_check.append(True)"
   ]
  },
  {
   "cell_type": "code",
   "execution_count": 70,
   "metadata": {},
   "outputs": [],
   "source": [
    "# filter for games\n",
    "data = data[games_check]"
   ]
  },
  {
   "cell_type": "code",
   "execution_count": 71,
   "metadata": {},
   "outputs": [],
   "source": [
    "# create column for outcome of game\n",
    "outcome_arr = [[0,1] if int(data.iloc[i,3]) > int(data.iloc[i-1,3]) else [1,0] for i in range(1,len(data),2)]"
   ]
  },
  {
   "cell_type": "code",
   "execution_count": 72,
   "metadata": {},
   "outputs": [],
   "source": [
    "# reshape array so shape is compatible with dataframe\n",
    "outcome_l = [x[0] for x in np.array(outcome_arr).reshape(len(outcome_arr)*2,1)]\n",
    "data['Outcome'] = outcome_l"
   ]
  },
  {
   "cell_type": "code",
   "execution_count": 73,
   "metadata": {},
   "outputs": [],
   "source": [
    "# create home/away column and append\n",
    "home_away_l = ['Home' if i % 2 == 0 else 'Away' for i in range(1,len(data)+1)]\n",
    "data['Home_Away'] = home_away_l"
   ]
  },
  {
   "cell_type": "markdown",
   "metadata": {},
   "source": [
    "## Sanity Checks"
   ]
  },
  {
   "cell_type": "code",
   "execution_count": 74,
   "metadata": {},
   "outputs": [
    {
     "name": "stdout",
     "output_type": "stream",
     "text": [
      "All gameIDs in pairs? True\n"
     ]
    }
   ],
   "source": [
    "# make sure all games include 2 teams\n",
    "test_gameID = [[1,1] if data.iloc[i,0] == data.iloc[i-1,0] else [0,0] for i in range(1,len(data),2)]\n",
    "test_gameID_l = [x[0] for x in np.array(test_gameID).reshape(len(test_gameID)*2,1)]\n",
    "print('All gameIDs in pairs?', len(test_gameID_l) == sum(test_gameID_l))"
   ]
  },
  {
   "cell_type": "markdown",
   "metadata": {},
   "source": [
    "### insert things here if necessary"
   ]
  },
  {
   "cell_type": "code",
   "execution_count": 75,
   "metadata": {},
   "outputs": [],
   "source": [
    "# export cleaned data\n",
    "data.to_csv('./Data Files/cleaned_data.csv', sep=',')"
   ]
  },
  {
   "cell_type": "markdown",
   "metadata": {},
   "source": [
    "# Analysis"
   ]
  },
  {
   "cell_type": "markdown",
   "metadata": {},
   "source": [
    "## Binning - All Games and Outcomes (no controlling for win/loss)"
   ]
  },
  {
   "cell_type": "markdown",
   "metadata": {},
   "source": [
    "### Important Inputs"
   ]
  },
  {
   "cell_type": "code",
   "execution_count": 76,
   "metadata": {},
   "outputs": [],
   "source": [
    "num_bins = 100"
   ]
  },
  {
   "cell_type": "markdown",
   "metadata": {},
   "source": [
    "### why not create bins manually so more obsevations in each???"
   ]
  },
  {
   "cell_type": "code",
   "execution_count": 77,
   "metadata": {},
   "outputs": [
    {
     "data": {
      "text/plain": [
       "array([5637,    0,    0,    0,    0,    0,    2,    3,    4,   16,   27,\n",
       "         44,   40,   39,   51,   58,   48,   32,   51,   64,   88,   86,\n",
       "         71,   58,   88,   95,   96,   98,   99,  113,  106,  123,   99,\n",
       "        110,  137,  124,  122,  142,  160,  154,  120,  146,  137,  133,\n",
       "        113,   94,  103,  113,   84,  100,   86,  109,  102,   93,   53,\n",
       "         59,  115,  121,  115,  121,  111,  132,  120,  101,  135,  151,\n",
       "        156,  106,  118,  128,  104,  141,  119,  130,  144,  119,  121,\n",
       "         96,  114,   86,   98,  108,   85,   86,   74,   62,   62,   86,\n",
       "         76,   54,   44,   40,   46,   58,   49,   34,   31,   11,    3,\n",
       "          3])"
      ]
     },
     "execution_count": 77,
     "metadata": {},
     "output_type": "execute_result"
    }
   ],
   "source": [
    "# bin data\n",
    "bin_count = np.histogram(data['Average_Probs'], bins=num_bins)\n",
    "bin_count[0]"
   ]
  },
  {
   "cell_type": "code",
   "execution_count": 78,
   "metadata": {},
   "outputs": [
    {
     "data": {
      "image/png": "[encoded data removed]",
      "text/plain": [
       "<matplotlib.figure.Figure at 0x7f5976648198>"
      ]
     },
     "metadata": {},
     "output_type": "display_data"
    }
   ],
   "source": [
    "# show all bins except 0 - many discarded due to too few odds available\n",
    "plt.figure(figsize=(10,6))\n",
    "plt.hist(data['Average_Probs'], bins=num_bins)\n",
    "plt.xlim(.01,1)\n",
    "plt.ylim(0,250)\n",
    "plt.title('NBA Implied Win Probabilities (2009-2019) - 100 Bins')\n",
    "plt.show()"
   ]
  },
  {
   "cell_type": "code",
   "execution_count": 79,
   "metadata": {},
   "outputs": [],
   "source": [
    "# calculate mean probability for each bin\n",
    "bins = scipy.stats.binned_statistic(data['Average_Probs'],data['Average_Probs'], \n",
    "                                    statistic='mean',bins=num_bins)"
   ]
  },
  {
   "cell_type": "code",
   "execution_count": 80,
   "metadata": {},
   "outputs": [
    {
     "data": {
      "text/plain": [
       "array([ 0.        ,         nan,         nan,         nan,         nan,\n",
       "               nan,  0.06408181,  0.07047952,  0.07966451,  0.09052617,\n",
       "        0.10077356,  0.11018015,  0.12005187,  0.12819958,  0.13833123,\n",
       "        0.14706071,  0.15776207,  0.16676473,  0.17642566,  0.18619362,\n",
       "        0.1954977 ,  0.20420113,  0.21447313,  0.22418276,  0.23392748,\n",
       "        0.24314947,  0.25318317,  0.26198075,  0.27152784,  0.28176829,\n",
       "        0.29034351,  0.30064898,  0.30972897,  0.31936099,  0.32893362,\n",
       "        0.33815115,  0.34841639,  0.35694018,  0.36713982,  0.3764597 ,\n",
       "        0.3854533 ,  0.39547356,  0.40483375,  0.41454021,  0.42349926,\n",
       "        0.43403757,  0.44295325,  0.45274951,  0.46157957,  0.47213351,\n",
       "        0.48096201,  0.49073483,  0.50051007,  0.50931523,  0.51903497,\n",
       "        0.52947381,  0.53816139,  0.54815297,  0.55723785,  0.56666164,\n",
       "        0.57706732,  0.5859204 ,  0.59586342,  0.60544848,  0.61431854,\n",
       "        0.62368666,  0.63359757,  0.64315432,  0.65267709,  0.66264677,\n",
       "        0.67170746,  0.68137749,  0.69060957,  0.70063203,  0.70953738,\n",
       "        0.71954031,  0.72902515,  0.73736251,  0.748071  ,  0.75751159,\n",
       "        0.76720729,  0.77694037,  0.78609891,  0.79535245,  0.80465237,\n",
       "        0.81465044,  0.82436509,  0.83409707,  0.84343687,  0.85237851,\n",
       "        0.8621487 ,  0.87165323,  0.88112153,  0.89125159,  0.89986198,\n",
       "        0.91040182,  0.91952163,  0.92968739,  0.93652249,  0.94937341])"
      ]
     },
     "execution_count": 80,
     "metadata": {},
     "output_type": "execute_result"
    }
   ],
   "source": [
    "# shows implied consensus win % based on odds\n",
    "consensus_mean = bins.statistic\n",
    "consensus_mean"
   ]
  },
  {
   "cell_type": "code",
   "execution_count": 81,
   "metadata": {},
   "outputs": [],
   "source": [
    "bins_actual = scipy.stats.binned_statistic(data['Average_Probs'],data['Outcome'], \n",
    "                                    statistic='mean',bins=num_bins)"
   ]
  },
  {
   "cell_type": "code",
   "execution_count": 82,
   "metadata": {},
   "outputs": [
    {
     "data": {
      "text/plain": [
       "array([ 0.50860387,         nan,         nan,         nan,         nan,\n",
       "               nan,  0.        ,  0.        ,  0.25      ,  0.0625    ,\n",
       "        0.22222222,  0.09090909,  0.25      ,  0.07692308,  0.19607843,\n",
       "        0.0862069 ,  0.16666667,  0.1875    ,  0.21568627,  0.203125  ,\n",
       "        0.26136364,  0.20930233,  0.22535211,  0.22413793,  0.19318182,\n",
       "        0.29473684,  0.22916667,  0.24489796,  0.3030303 ,  0.27433628,\n",
       "        0.26415094,  0.28455285,  0.27272727,  0.34545455,  0.29927007,\n",
       "        0.36290323,  0.29508197,  0.33098592,  0.325     ,  0.30519481,\n",
       "        0.375     ,  0.39041096,  0.38686131,  0.42857143,  0.39823009,\n",
       "        0.35106383,  0.47572816,  0.44247788,  0.41666667,  0.47      ,\n",
       "        0.45348837,  0.43119266,  0.37254902,  0.5483871 ,  0.56603774,\n",
       "        0.42372881,  0.51304348,  0.65289256,  0.50434783,  0.55371901,\n",
       "        0.57657658,  0.5       ,  0.625     ,  0.59405941,  0.61481481,\n",
       "        0.58278146,  0.62179487,  0.60377358,  0.69491525,  0.703125  ,\n",
       "        0.66346154,  0.70921986,  0.68907563,  0.66923077,  0.61805556,\n",
       "        0.75630252,  0.66942149,  0.76041667,  0.71052632,  0.69767442,\n",
       "        0.70408163,  0.76851852,  0.74117647,  0.73255814,  0.81081081,\n",
       "        0.77419355,  0.75806452,  0.79069767,  0.72368421,  0.83333333,\n",
       "        0.75      ,  0.825     ,  0.86956522,  0.9137931 ,  0.79591837,\n",
       "        0.79411765,  0.77419355,  0.81818182,  0.66666667,  1.        ])"
      ]
     },
     "execution_count": 82,
     "metadata": {},
     "output_type": "execute_result"
    }
   ],
   "source": [
    "# shows the actual win % within each bin\n",
    "actual_mean = bins_actual.statistic\n",
    "actual_mean"
   ]
  },
  {
   "cell_type": "code",
   "execution_count": 83,
   "metadata": {},
   "outputs": [],
   "source": [
    "# check to make sure binning and calculations are as expected\n",
    "data['Bin_Number_Consensus'] = bins.binnumber"
   ]
  },
  {
   "cell_type": "code",
   "execution_count": 84,
   "metadata": {},
   "outputs": [
    {
     "data": {
      "image/png": "[encoded data removed]",
      "text/plain": [
       "<matplotlib.figure.Figure at 0x7f596e90eba8>"
      ]
     },
     "metadata": {},
     "output_type": "display_data"
    }
   ],
   "source": [
    "plt.figure(figsize=(10,6))\n",
    "plt.plot(actual_mean[2:], label='Actual Win %')\n",
    "plt.plot(consensus_mean[2:], label='Consensus Implied Win %')\n",
    "plt.legend()\n",
    "plt.show()"
   ]
  },
  {
   "cell_type": "markdown",
   "metadata": {},
   "source": [
    "^^^^^^ WHY/HOW IS THIS SO LINEAR"
   ]
  },
  {
   "cell_type": "code",
   "execution_count": null,
   "metadata": {},
   "outputs": [],
   "source": []
  },
  {
   "cell_type": "markdown",
   "metadata": {},
   "source": [
    "### Regression"
   ]
  },
  {
   "cell_type": "code",
   "execution_count": 85,
   "metadata": {},
   "outputs": [],
   "source": [
    "# filter for bins with more than 50 games\n",
    "bin_filter = bin_count[0] > 150"
   ]
  },
  {
   "cell_type": "code",
   "execution_count": 86,
   "metadata": {},
   "outputs": [],
   "source": [
    "X = consensus_mean[bin_filter].reshape(-1,1)[1:]\n",
    "y = actual_mean[bin_filter][1:]"
   ]
  },
  {
   "cell_type": "code",
   "execution_count": 87,
   "metadata": {},
   "outputs": [],
   "source": [
    "lm = LinearRegression().fit(X,y)"
   ]
  },
  {
   "cell_type": "code",
   "execution_count": 88,
   "metadata": {},
   "outputs": [
    {
     "data": {
      "text/plain": [
       "array([ 1.11812273])"
      ]
     },
     "execution_count": 88,
     "metadata": {},
     "output_type": "execute_result"
    }
   ],
   "source": [
    "lm.coef_"
   ]
  },
  {
   "cell_type": "code",
   "execution_count": 89,
   "metadata": {},
   "outputs": [
    {
     "data": {
      "text/plain": [
       "-0.10061561964796317"
      ]
     },
     "execution_count": 89,
     "metadata": {},
     "output_type": "execute_result"
    }
   ],
   "source": [
    "lm.intercept_"
   ]
  },
  {
   "cell_type": "code",
   "execution_count": 90,
   "metadata": {},
   "outputs": [
    {
     "data": {
      "image/png": "[encoded data removed]",
      "text/plain": [
       "<matplotlib.figure.Figure at 0x7f596e90ec18>"
      ]
     },
     "metadata": {},
     "output_type": "display_data"
    }
   ],
   "source": [
    "plt.figure(figsize=(10,6))\n",
    "plt.scatter(X, y)\n",
    "plt.xlabel('Consensus Implied Win %')\n",
    "plt.ylabel('Actual Win %')\n",
    "plt.title('Implied Odds vs. Actual Outcomes (2009 - 2019)')\n",
    "plt.legend()"
   ]
  },
  {
   "cell_type": "markdown",
   "metadata": {},
   "source": [
    "### Notes\n",
    "1. increasing bin filter number increases slope\n",
    "    - big difference even between 120 and 150\n",
    "2. changing number of bins does not change coef or intercept materially\n",
    "3. changing min number of odds does change the intercept materially"
   ]
  },
  {
   "cell_type": "code",
   "execution_count": null,
   "metadata": {},
   "outputs": [],
   "source": []
  },
  {
   "cell_type": "markdown",
   "metadata": {},
   "source": [
    "### High-Level Backtest"
   ]
  },
  {
   "cell_type": "code",
   "execution_count": 91,
   "metadata": {},
   "outputs": [],
   "source": [
    "alpha = 0.05"
   ]
  },
  {
   "cell_type": "code",
   "execution_count": 92,
   "metadata": {},
   "outputs": [],
   "source": [
    "# IDEA - need implied prob to be lower than real prob\n",
    "data['Consensus_Minus_Alpha'] = data['Average_Probs'] - alpha"
   ]
  },
  {
   "cell_type": "code",
   "execution_count": 93,
   "metadata": {},
   "outputs": [],
   "source": [
    "filter_signal = data['Max_Implied_Prob'] < data['Consensus_Minus_Alpha']\n",
    "data['Signal'] = [int(x) for x in filter_signal]"
   ]
  },
  {
   "cell_type": "code",
   "execution_count": 94,
   "metadata": {},
   "outputs": [],
   "source": [
    "# add payout for each bet if successful\n",
    "payout = [-100/x if int(x) < 0 else x/100 for x in data['Max_Odds']]\n",
    "data['Payout_if_Win'] = payout"
   ]
  },
  {
   "cell_type": "code",
   "execution_count": 95,
   "metadata": {},
   "outputs": [],
   "source": [
    "# add expected value of each bet - this will be numerator of kelly\n",
    "expectation = [data.iloc[i,43]*data.iloc[i,41]+ (-1)*(1-data.iloc[i,41]) for i in range(len(data))]\n",
    "data['Expected_Value'] = expectation"
   ]
  },
  {
   "cell_type": "code",
   "execution_count": 96,
   "metadata": {},
   "outputs": [
    {
     "data": {
      "text/html": [
       "<div>\n",
       "<style>\n",
       "    .dataframe thead tr:only-child th {\n",
       "        text-align: right;\n",
       "    }\n",
       "\n",
       "    .dataframe thead th {\n",
       "        text-align: left;\n",
       "    }\n",
       "\n",
       "    .dataframe tbody tr th {\n",
       "        vertical-align: top;\n",
       "    }\n",
       "</style>\n",
       "<table border=\"1\" class=\"dataframe\">\n",
       "  <thead>\n",
       "    <tr style=\"text-align: right;\">\n",
       "      <th></th>\n",
       "      <th>GameID</th>\n",
       "      <th>Date</th>\n",
       "      <th>Teams</th>\n",
       "      <th>Points</th>\n",
       "      <th>Wagers</th>\n",
       "      <th>Opener</th>\n",
       "      <th>Pinnacle</th>\n",
       "      <th>Fivedimes</th>\n",
       "      <th>Bookmaker</th>\n",
       "      <th>BetOnline</th>\n",
       "      <th>...</th>\n",
       "      <th>Average_Probs</th>\n",
       "      <th>Max_Odds</th>\n",
       "      <th>Max_Implied_Prob</th>\n",
       "      <th>Outcome</th>\n",
       "      <th>Home_Away</th>\n",
       "      <th>Bin_Number_Consensus</th>\n",
       "      <th>Consensus_Minus_Alpha</th>\n",
       "      <th>Signal</th>\n",
       "      <th>Payout_if_Win</th>\n",
       "      <th>Expected_Value</th>\n",
       "    </tr>\n",
       "  </thead>\n",
       "  <tbody>\n",
       "  </tbody>\n",
       "</table>\n",
       "<p>0 rows × 45 columns</p>\n",
       "</div>"
      ],
      "text/plain": [
       "Empty DataFrame\n",
       "Columns: [GameID, Date, Teams, Points, Wagers, Opener, Pinnacle, Fivedimes, Bookmaker, BetOnline, Bovada, Heritage, Intertops, Youwager, Justbet, Sportsbetting, Gtbets, Sportbet, Nitrogensports, Betphoenix, Betmania, Skybook, Mybookie, Abcislands, Jazz, Sportsinteraction, Betcris, Sbr, Wagerweb, Thegreek, Bodog, Matchbook, Looselines, Bet365, Average_Odds, Average_Probs, Max_Odds, Max_Implied_Prob, Outcome, Home_Away, Bin_Number_Consensus, Consensus_Minus_Alpha, Signal, Payout_if_Win, Expected_Value]\n",
       "Index: []\n",
       "\n",
       "[0 rows x 45 columns]"
      ]
     },
     "execution_count": 96,
     "metadata": {},
     "output_type": "execute_result"
    }
   ],
   "source": [
    "# make sure no games where signal = 1 have negative expectation\n",
    "data.iloc[np.where((data['Signal'] == 1) & (data['Expected_Value'] < 0))[0],:]"
   ]
  },
  {
   "cell_type": "code",
   "execution_count": 97,
   "metadata": {},
   "outputs": [],
   "source": [
    "# subset where signal = 1 so we put on a position\n",
    "bets_subset = data.iloc[np.where(data['Signal'] == 1)[0],:]"
   ]
  },
  {
   "cell_type": "code",
   "execution_count": 98,
   "metadata": {},
   "outputs": [
    {
     "name": "stderr",
     "output_type": "stream",
     "text": [
      "/home/richie10181/anaconda3/lib/python3.6/site-packages/ipykernel_launcher.py:5: SettingWithCopyWarning: \n",
      "A value is trying to be set on a copy of a slice from a DataFrame.\n",
      "Try using .loc[row_indexer,col_indexer] = value instead\n",
      "\n",
      "See the caveats in the documentation: http://pandas.pydata.org/pandas-docs/stable/indexing.html#indexing-view-versus-copy\n",
      "  \"\"\"\n"
     ]
    }
   ],
   "source": [
    "# calculate our win/loss if we entered all games where signal = 1\n",
    "bet_outcomes = [bets_subset.iloc[i,43] if bets_subset.iloc[i,38] == 1 \n",
    "                else -1 \n",
    "                for i in range(len(bets_subset))]\n",
    "bets_subset['PnL'] = bet_outcomes"
   ]
  },
  {
   "cell_type": "markdown",
   "metadata": {},
   "source": [
    "### $1 Bets on each game"
   ]
  },
  {
   "cell_type": "code",
   "execution_count": 99,
   "metadata": {},
   "outputs": [
    {
     "name": "stdout",
     "output_type": "stream",
     "text": [
      "Number of Bets: 433\n",
      "Number of Wins 237\n",
      "Number of Losses: 196\n",
      "Average Win/Loss Amount: 0.2561332124765431\n",
      "Median Win/Loss Amount: 0.416666666667\n",
      "Standard Deviation: 1.404967425693719\n",
      "Sharpe: 0.1823054455159872\n",
      "Sum Win/Loss: 110.90568100234314\n"
     ]
    }
   ],
   "source": [
    "print('Number of Bets:',len(bets_subset['PnL']))\n",
    "print('Number of Wins', sum(bets_subset['Outcome']))\n",
    "print('Number of Losses:', len(np.where(bets_subset['Outcome']==0)[0]))\n",
    "print('Average Win/Loss Amount:',np.mean(bets_subset['PnL']))\n",
    "print('Median Win/Loss Amount:', np.median(bets_subset['PnL']))\n",
    "print('Standard Deviation:', np.std(bets_subset['PnL']))\n",
    "print('Sharpe:', np.mean(bets_subset['PnL'])/ np.std(bets_subset['PnL']))\n",
    "print('Sum Win/Loss:',np.sum(bets_subset['PnL']))"
   ]
  },
  {
   "cell_type": "code",
   "execution_count": 100,
   "metadata": {},
   "outputs": [
    {
     "data": {
      "image/png": "[encoded data removed]",
      "text/plain": [
       "<matplotlib.figure.Figure at 0x7f596e842f98>"
      ]
     },
     "metadata": {},
     "output_type": "display_data"
    }
   ],
   "source": [
    "plt.hist(bets_subset['PnL'], bins=10)\n",
    "plt.show()"
   ]
  },
  {
   "cell_type": "code",
   "execution_count": 101,
   "metadata": {},
   "outputs": [],
   "source": [
    "dollars_risked = len(bets_subset['PnL'])\n",
    "net_dollars_received = np.sum(bets_subset['PnL'])\n",
    "annual_growth = ((dollars_risked + net_dollars_received)/dollars_risked)**(1/10)-1"
   ]
  },
  {
   "cell_type": "code",
   "execution_count": 102,
   "metadata": {},
   "outputs": [
    {
     "data": {
      "text/plain": [
       "0.023065806961424684"
      ]
     },
     "execution_count": 102,
     "metadata": {},
     "output_type": "execute_result"
    }
   ],
   "source": [
    "annual_growth"
   ]
  },
  {
   "cell_type": "markdown",
   "metadata": {},
   "source": [
    "### Kelly-style bet sizing (assuming $100 portfolio)"
   ]
  },
  {
   "cell_type": "code",
   "execution_count": 103,
   "metadata": {},
   "outputs": [
    {
     "name": "stderr",
     "output_type": "stream",
     "text": [
      "/home/richie10181/anaconda3/lib/python3.6/site-packages/ipykernel_launcher.py:2: SettingWithCopyWarning: \n",
      "A value is trying to be set on a copy of a slice from a DataFrame.\n",
      "Try using .loc[row_indexer,col_indexer] = value instead\n",
      "\n",
      "See the caveats in the documentation: http://pandas.pydata.org/pandas-docs/stable/indexing.html#indexing-view-versus-copy\n",
      "  \n"
     ]
    }
   ],
   "source": [
    "kelly = np.array(bets_subset['Expected_Value']) / np.array(bets_subset['Payout_if_Win'])\n",
    "bets_subset['Kelly'] = kelly"
   ]
  },
  {
   "cell_type": "code",
   "execution_count": 104,
   "metadata": {},
   "outputs": [],
   "source": [
    "kelly_bet_size = np.array(bets_subset['Kelly']) * 100 \n",
    "kelly_bet_winnings = kelly_bet_size * np.array(bets_subset['Payout_if_Win'])"
   ]
  },
  {
   "cell_type": "code",
   "execution_count": 105,
   "metadata": {},
   "outputs": [],
   "source": [
    "kelly_pnl = [kelly_bet_winnings[i] if np.array(bets_subset['Outcome'])[i] == 1 \n",
    "             else -kelly_bet_size[i]\n",
    "             for i in range(len(bets_subset))]"
   ]
  },
  {
   "cell_type": "code",
   "execution_count": 106,
   "metadata": {},
   "outputs": [
    {
     "name": "stderr",
     "output_type": "stream",
     "text": [
      "/home/richie10181/anaconda3/lib/python3.6/site-packages/ipykernel_launcher.py:1: SettingWithCopyWarning: \n",
      "A value is trying to be set on a copy of a slice from a DataFrame.\n",
      "Try using .loc[row_indexer,col_indexer] = value instead\n",
      "\n",
      "See the caveats in the documentation: http://pandas.pydata.org/pandas-docs/stable/indexing.html#indexing-view-versus-copy\n",
      "  \"\"\"Entry point for launching an IPython kernel.\n"
     ]
    }
   ],
   "source": [
    "bets_subset['Kelly_PnL'] = kelly_pnl"
   ]
  },
  {
   "cell_type": "code",
   "execution_count": 107,
   "metadata": {},
   "outputs": [
    {
     "data": {
      "text/html": [
       "<div>\n",
       "<style>\n",
       "    .dataframe thead tr:only-child th {\n",
       "        text-align: right;\n",
       "    }\n",
       "\n",
       "    .dataframe thead th {\n",
       "        text-align: left;\n",
       "    }\n",
       "\n",
       "    .dataframe tbody tr th {\n",
       "        vertical-align: top;\n",
       "    }\n",
       "</style>\n",
       "<table border=\"1\" class=\"dataframe\">\n",
       "  <thead>\n",
       "    <tr style=\"text-align: right;\">\n",
       "      <th></th>\n",
       "      <th>GameID</th>\n",
       "      <th>Date</th>\n",
       "      <th>Teams</th>\n",
       "      <th>Points</th>\n",
       "      <th>Wagers</th>\n",
       "      <th>Opener</th>\n",
       "      <th>Pinnacle</th>\n",
       "      <th>Fivedimes</th>\n",
       "      <th>Bookmaker</th>\n",
       "      <th>BetOnline</th>\n",
       "      <th>...</th>\n",
       "      <th>Outcome</th>\n",
       "      <th>Home_Away</th>\n",
       "      <th>Bin_Number_Consensus</th>\n",
       "      <th>Consensus_Minus_Alpha</th>\n",
       "      <th>Signal</th>\n",
       "      <th>Payout_if_Win</th>\n",
       "      <th>Expected_Value</th>\n",
       "      <th>PnL</th>\n",
       "      <th>Kelly</th>\n",
       "      <th>Kelly_PnL</th>\n",
       "    </tr>\n",
       "  </thead>\n",
       "  <tbody>\n",
       "    <tr>\n",
       "      <th>810</th>\n",
       "      <td>7.0</td>\n",
       "      <td>Sat Nov 17, 2018</td>\n",
       "      <td>Toronto</td>\n",
       "      <td>122</td>\n",
       "      <td>52%</td>\n",
       "      <td>-335</td>\n",
       "      <td>-447</td>\n",
       "      <td>-455</td>\n",
       "      <td>-520</td>\n",
       "      <td>-505</td>\n",
       "      <td>...</td>\n",
       "      <td>1</td>\n",
       "      <td>Away</td>\n",
       "      <td>88</td>\n",
       "      <td>0.783250</td>\n",
       "      <td>1</td>\n",
       "      <td>0.281690</td>\n",
       "      <td>0.003884</td>\n",
       "      <td>0.281690</td>\n",
       "      <td>0.013790</td>\n",
       "      <td>0.388442</td>\n",
       "    </tr>\n",
       "    <tr>\n",
       "      <th>979</th>\n",
       "      <td>6.0</td>\n",
       "      <td>Mon Nov 05, 2018</td>\n",
       "      <td>Utah</td>\n",
       "      <td>111</td>\n",
       "      <td>58%</td>\n",
       "      <td>-103</td>\n",
       "      <td>-158</td>\n",
       "      <td>-145</td>\n",
       "      <td>-170</td>\n",
       "      <td>-160</td>\n",
       "      <td>...</td>\n",
       "      <td>0</td>\n",
       "      <td>Home</td>\n",
       "      <td>64</td>\n",
       "      <td>0.550427</td>\n",
       "      <td>1</td>\n",
       "      <td>0.952381</td>\n",
       "      <td>0.074644</td>\n",
       "      <td>-1.000000</td>\n",
       "      <td>0.078376</td>\n",
       "      <td>-7.837602</td>\n",
       "    </tr>\n",
       "    <tr>\n",
       "      <th>1017</th>\n",
       "      <td>2.0</td>\n",
       "      <td>Tue Feb 06, 2018</td>\n",
       "      <td>New York</td>\n",
       "      <td>89</td>\n",
       "      <td>47%</td>\n",
       "      <td>110</td>\n",
       "      <td>-117</td>\n",
       "      <td>-118</td>\n",
       "      <td>-120</td>\n",
       "      <td>-125</td>\n",
       "      <td>...</td>\n",
       "      <td>0</td>\n",
       "      <td>Home</td>\n",
       "      <td>57</td>\n",
       "      <td>0.490212</td>\n",
       "      <td>1</td>\n",
       "      <td>1.050000</td>\n",
       "      <td>0.004935</td>\n",
       "      <td>-1.000000</td>\n",
       "      <td>0.004700</td>\n",
       "      <td>-0.470028</td>\n",
       "    </tr>\n",
       "    <tr>\n",
       "      <th>251</th>\n",
       "      <td>9.0</td>\n",
       "      <td>Mon Feb 06, 2017</td>\n",
       "      <td>Memphis</td>\n",
       "      <td>89</td>\n",
       "      <td>39%</td>\n",
       "      <td>125</td>\n",
       "      <td>-110</td>\n",
       "      <td>-117</td>\n",
       "      <td>-115</td>\n",
       "      <td>-112</td>\n",
       "      <td>...</td>\n",
       "      <td>1</td>\n",
       "      <td>Home</td>\n",
       "      <td>55</td>\n",
       "      <td>0.473129</td>\n",
       "      <td>1</td>\n",
       "      <td>1.200000</td>\n",
       "      <td>0.040885</td>\n",
       "      <td>1.200000</td>\n",
       "      <td>0.034070</td>\n",
       "      <td>4.088459</td>\n",
       "    </tr>\n",
       "    <tr>\n",
       "      <th>541</th>\n",
       "      <td>2.0</td>\n",
       "      <td>Mon Jan 16, 2017</td>\n",
       "      <td>Milwaukee</td>\n",
       "      <td>98</td>\n",
       "      <td>51%</td>\n",
       "      <td>-280</td>\n",
       "      <td>-415</td>\n",
       "      <td>-420</td>\n",
       "      <td>-365</td>\n",
       "      <td>-175</td>\n",
       "      <td>...</td>\n",
       "      <td>1</td>\n",
       "      <td>Home</td>\n",
       "      <td>81</td>\n",
       "      <td>0.714161</td>\n",
       "      <td>1</td>\n",
       "      <td>0.571429</td>\n",
       "      <td>0.122253</td>\n",
       "      <td>0.571429</td>\n",
       "      <td>0.213942</td>\n",
       "      <td>12.225286</td>\n",
       "    </tr>\n",
       "  </tbody>\n",
       "</table>\n",
       "<p>5 rows × 48 columns</p>\n",
       "</div>"
      ],
      "text/plain": [
       "      GameID              Date      Teams Points Wagers Opener Pinnacle  \\\n",
       "810      7.0  Sat Nov 17, 2018    Toronto    122    52%   -335     -447   \n",
       "979      6.0  Mon Nov 05, 2018       Utah    111    58%   -103     -158   \n",
       "1017     2.0  Tue Feb 06, 2018   New York     89    47%    110     -117   \n",
       "251      9.0  Mon Feb 06, 2017    Memphis     89    39%    125     -110   \n",
       "541      2.0  Mon Jan 16, 2017  Milwaukee     98    51%   -280     -415   \n",
       "\n",
       "     Fivedimes Bookmaker BetOnline    ...     Outcome Home_Away  \\\n",
       "810       -455      -520      -505    ...           1      Away   \n",
       "979       -145      -170      -160    ...           0      Home   \n",
       "1017      -118      -120      -125    ...           0      Home   \n",
       "251       -117      -115      -112    ...           1      Home   \n",
       "541       -420      -365      -175    ...           1      Home   \n",
       "\n",
       "     Bin_Number_Consensus Consensus_Minus_Alpha Signal Payout_if_Win  \\\n",
       "810                    88              0.783250      1      0.281690   \n",
       "979                    64              0.550427      1      0.952381   \n",
       "1017                   57              0.490212      1      1.050000   \n",
       "251                    55              0.473129      1      1.200000   \n",
       "541                    81              0.714161      1      0.571429   \n",
       "\n",
       "     Expected_Value       PnL     Kelly  Kelly_PnL  \n",
       "810        0.003884  0.281690  0.013790   0.388442  \n",
       "979        0.074644 -1.000000  0.078376  -7.837602  \n",
       "1017       0.004935 -1.000000  0.004700  -0.470028  \n",
       "251        0.040885  1.200000  0.034070   4.088459  \n",
       "541        0.122253  0.571429  0.213942  12.225286  \n",
       "\n",
       "[5 rows x 48 columns]"
      ]
     },
     "execution_count": 107,
     "metadata": {},
     "output_type": "execute_result"
    }
   ],
   "source": [
    "bets_subset.head()"
   ]
  },
  {
   "cell_type": "code",
   "execution_count": 108,
   "metadata": {},
   "outputs": [
    {
     "name": "stdout",
     "output_type": "stream",
     "text": [
      "Number of Bets: 433\n",
      "Number of Wins 237\n",
      "Number of Losses: 196\n",
      "Average Win/Loss Amount: 3.482024977717799\n",
      "Median Win/Loss Amount: 0.602609322259\n",
      "Standard Deviation: 14.5601263132017\n",
      "Sharpe: 0.23914799245667528\n",
      "Sum Win/Loss: 1507.716815351807\n"
     ]
    }
   ],
   "source": [
    "print('Number of Bets:',len(bets_subset['Kelly_PnL']))\n",
    "print('Number of Wins', sum(bets_subset['Outcome']))\n",
    "print('Number of Losses:', len(np.where(bets_subset['Outcome']==0)[0]))\n",
    "print('Average Win/Loss Amount:',np.mean(bets_subset['Kelly_PnL']))\n",
    "print('Median Win/Loss Amount:', np.median(bets_subset['Kelly_PnL']))\n",
    "print('Standard Deviation:', np.std(bets_subset['Kelly_PnL']))\n",
    "print('Sharpe:', np.mean(bets_subset['Kelly_PnL'])/np.std(bets_subset['Kelly_PnL']))\n",
    "print('Sum Win/Loss:',np.sum(bets_subset['Kelly_PnL']))"
   ]
  },
  {
   "cell_type": "code",
   "execution_count": 109,
   "metadata": {},
   "outputs": [
    {
     "data": {
      "image/png": "[encoded data removed]",
      "text/plain": [
       "<matplotlib.figure.Figure at 0x7f596e865dd8>"
      ]
     },
     "metadata": {},
     "output_type": "display_data"
    }
   ],
   "source": [
    "plt.hist(bets_subset['Kelly_PnL'], bins=10)\n",
    "plt.show()"
   ]
  },
  {
   "cell_type": "code",
   "execution_count": 110,
   "metadata": {},
   "outputs": [
    {
     "data": {
      "text/plain": [
       "0.033833224667179085"
      ]
     },
     "execution_count": 110,
     "metadata": {},
     "output_type": "execute_result"
    }
   ],
   "source": [
    "dollars_risked = sum(kelly_bet_size)\n",
    "net_dollars_received = np.sum(bets_subset['Kelly_PnL'])\n",
    "annual_growth = ((dollars_risked + net_dollars_received)/dollars_risked)**(1/10)-1\n",
    "annual_growth"
   ]
  },
  {
   "cell_type": "code",
   "execution_count": 111,
   "metadata": {},
   "outputs": [
    {
     "data": {
      "text/plain": [
       "37.021325745998908"
      ]
     },
     "execution_count": 111,
     "metadata": {},
     "output_type": "execute_result"
    }
   ],
   "source": [
    "max(kelly_bet_size)"
   ]
  },
  {
   "cell_type": "code",
   "execution_count": 112,
   "metadata": {},
   "outputs": [
    {
     "data": {
      "text/plain": [
       "(array([341]),)"
      ]
     },
     "execution_count": 112,
     "metadata": {},
     "output_type": "execute_result"
    }
   ],
   "source": [
    "np.where(kelly_bet_size==37.021325745998908)"
   ]
  },
  {
   "cell_type": "code",
   "execution_count": 113,
   "metadata": {},
   "outputs": [
    {
     "data": {
      "text/plain": [
       "GameID                                 10\n",
       "Date                     Wed Dec 01, 2010\n",
       "Teams                                Utah\n",
       "Points                                109\n",
       "Wagers                                  -\n",
       "Opener                                  -\n",
       "Pinnacle                             -400\n",
       "Fivedimes                            -360\n",
       "Bookmaker                            -360\n",
       "BetOnline                            -130\n",
       "Bovada                               -400\n",
       "Heritage                             -400\n",
       "Intertops                               -\n",
       "Youwager                             -130\n",
       "Justbet                              -400\n",
       "Sportsbetting                        -380\n",
       "Gtbets                               -400\n",
       "Sportbet                                -\n",
       "Nitrogensports                       -400\n",
       "Betphoenix                              -\n",
       "Betmania                                -\n",
       "Skybook                                 -\n",
       "Mybookie                             -400\n",
       "Abcislands                              -\n",
       "Jazz                                 -375\n",
       "Sportsinteraction                    -130\n",
       "Betcris                              -400\n",
       "Sbr                                  -385\n",
       "Wagerweb                                -\n",
       "Thegreek                                -\n",
       "Bodog                                -400\n",
       "Matchbook                            -400\n",
       "Looselines                           -365\n",
       "Bet365                               -130\n",
       "Average_Odds                     -365.769\n",
       "Average_Probs                     0.77618\n",
       "Max_Odds                             -130\n",
       "Max_Implied_Prob                 0.565217\n",
       "Outcome                                 1\n",
       "Home_Away                            Home\n",
       "Bin_Number_Consensus                   82\n",
       "Consensus_Minus_Alpha             0.72618\n",
       "Signal                                  1\n",
       "Payout_if_Win                    0.769231\n",
       "Expected_Value                   0.284779\n",
       "PnL                              0.769231\n",
       "Kelly                            0.370213\n",
       "Kelly_PnL                         28.4779\n",
       "Name: 40160, dtype: object"
      ]
     },
     "execution_count": 113,
     "metadata": {},
     "output_type": "execute_result"
    }
   ],
   "source": [
    "bets_subset.iloc[341,:]"
   ]
  },
  {
   "cell_type": "code",
   "execution_count": null,
   "metadata": {},
   "outputs": [],
   "source": []
  }
 ],
 "metadata": {
  "kernelspec": {
   "display_name": "Python 3",
   "language": "python",
   "name": "python3"
  },
  "language_info": {
   "codemirror_mode": {
    "name": "ipython",
    "version": 3
   },
   "file_extension": ".py",
   "mimetype": "text/x-python",
   "name": "python",
   "nbconvert_exporter": "python",
   "pygments_lexer": "ipython3",
   "version": "3.6.3"
  }
 },
 "nbformat": 4,
 "nbformat_minor": 2
}
