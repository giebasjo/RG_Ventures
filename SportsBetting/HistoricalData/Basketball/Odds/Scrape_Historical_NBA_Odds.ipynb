{
 "cells": [
  {
   "cell_type": "code",
   "execution_count": 1,
   "metadata": {},
   "outputs": [],
   "source": [
    "from scraping_nba_odds import nba_stats_info, scrape_nba_odds"
   ]
  },
  {
   "cell_type": "code",
   "execution_count": 2,
   "metadata": {},
   "outputs": [],
   "source": [
    "url = list(nba_stats_info.keys())[0]"
   ]
  },
  {
   "cell_type": "code",
   "execution_count": 3,
   "metadata": {},
   "outputs": [],
   "source": [
    "xstart = '/html/body/div[5]/div/div/section/div/div/div[2]/div[2]/table/tbody/tr['\n",
    "xmid = ']/td['\n",
    "xend = ']/div'\n",
    "week = [1,2,3,4,5,6]\n",
    "day = [1,2,3,4,5,6,7]\n",
    "xpaths = [xstart + str(wk) + xmid + str(d) + xend for wk in week[::-1] for d in day[::-1]]"
   ]
  },
  {
   "cell_type": "code",
   "execution_count": 10,
   "metadata": {},
   "outputs": [],
   "source": [
    "# january 2019 is 0\n",
    "# have done 0-4, 8-12, 13-17, 18-22, 23-27\n",
    "num_months_b = 58\n",
    "\n",
    "# this will run the scrape for jan 2019 and 4 months prior\n",
    "num_months_e = 118"
   ]
  },
  {
   "cell_type": "code",
   "execution_count": 11,
   "metadata": {},
   "outputs": [],
   "source": [
    "dfout = scrape_nba_odds(url, xpaths, num_months_b, num_months_e)"
   ]
  },
  {
   "cell_type": "code",
   "execution_count": 12,
   "metadata": {},
   "outputs": [],
   "source": [
    "dfout = dfout.drop(['Opener2','Opener3', 'Opener4','Opener5','Opener6','Opener7'],axis=1)"
   ]
  },
  {
   "cell_type": "code",
   "execution_count": 13,
   "metadata": {},
   "outputs": [],
   "source": [
    "dfout.to_csv('./Data Files/pre_march2014.csv', sep=',')"
   ]
  },
  {
   "cell_type": "code",
   "execution_count": null,
   "metadata": {},
   "outputs": [],
   "source": []
  }
 ],
 "metadata": {
  "kernelspec": {
   "display_name": "Python 3",
   "language": "python",
   "name": "python3"
  },
  "language_info": {
   "codemirror_mode": {
    "name": "ipython",
    "version": 3
   },
   "file_extension": ".py",
   "mimetype": "text/x-python",
   "name": "python",
   "nbconvert_exporter": "python",
   "pygments_lexer": "ipython3",
   "version": "3.6.3"
  }
 },
 "nbformat": 4,
 "nbformat_minor": 2
}
